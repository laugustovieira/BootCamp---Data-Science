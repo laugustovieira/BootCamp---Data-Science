{
  "nbformat": 4,
  "nbformat_minor": 0,
  "metadata": {
    "colab": {
      "name": "Desafios_Modulo2_Aula1.ipynb",
      "provenance": [],
      "collapsed_sections": [],
      "mount_file_id": "1q2HLN5622ZgYFisS3ITnwe-9lnZLP8yB",
      "authorship_tag": "ABX9TyOyI1qIq+HgjgwM6n/qxyMr",
      "include_colab_link": true
    },
    "kernelspec": {
      "name": "python3",
      "display_name": "Python 3"
    },
    "language_info": {
      "name": "python"
    }
  },
  "cells": [
    {
      "cell_type": "markdown",
      "metadata": {
        "id": "view-in-github",
        "colab_type": "text"
      },
      "source": [
        "<a href=\"https://colab.research.google.com/github/laugustovieira/BootCamp-Data-Science/blob/main/Desafios_Modulo2_Aula1.ipynb\" target=\"_parent\"><img src=\"https://colab.research.google.com/assets/colab-badge.svg\" alt=\"Open In Colab\"/></a>"
      ]
    },
    {
      "cell_type": "markdown",
      "metadata": {
        "id": "ngVgUhMc7OCg"
      },
      "source": [
        "#Modulo 02 Aula 01"
      ]
    },
    {
      "cell_type": "markdown",
      "metadata": {
        "id": "xJfXrHnt7St-"
      },
      "source": [
        "#Importar Bibliotecas"
      ]
    },
    {
      "cell_type": "code",
      "metadata": {
        "id": "-BOfZO5e7NF_"
      },
      "source": [
        "import seaborn as sns\n",
        "import pandas as pd\n",
        "import matplotlib.pyplot as plt\n",
        "import matplotlib.ticker as ticker"
      ],
      "execution_count": 397,
      "outputs": []
    },
    {
      "cell_type": "markdown",
      "metadata": {
        "id": "BBo65XaA7_Jf"
      },
      "source": [
        "#Carregar informações"
      ]
    },
    {
      "cell_type": "code",
      "metadata": {
        "id": "XQVGLCH38D4v"
      },
      "source": [
        "dados = pd.read_csv(\"/content/drive/MyDrive/Dados_BootCamp/A005117189_28_143_208_2021_ATENDIMENTO.csv\", encoding=\"ISO-8859-1\",\n",
        "            sep=\";\", skiprows = 3, skipfooter = 12, engine = \"python\", thousands = \",\", decimal = \".\")"
      ],
      "execution_count": 398,
      "outputs": []
    },
    {
      "cell_type": "markdown",
      "metadata": {
        "id": "XqeCOqSJ7kxv"
      },
      "source": [
        "#Tratar Dados"
      ]
    },
    {
      "cell_type": "code",
      "metadata": {
        "id": "yZTzaBDu7n9_"
      },
      "source": [
        "pd.options.display.float_format = \"{:.2f}\".format\n"
      ],
      "execution_count": 399,
      "outputs": []
    },
    {
      "cell_type": "code",
      "metadata": {
        "colab": {
          "base_uri": "https://localhost:8080/"
        },
        "id": "_l3epE3EaM3C",
        "outputId": "a6f8d236-ea0f-4ec7-f7b2-6ef6167ea800"
      },
      "source": [
        "colunas_usaveis_def3 = dados.mean().index.tolist()\n",
        "colunas_usaveis_def3.insert(0,\"Unidade da Federação\")\n",
        "\n",
        "usaveis_def3 = dados[colunas_usaveis_def3]\n",
        "usaveis_def3= usaveis_def3.drop(\"Total\", axis=1)\n",
        "usaveis_def3 = usaveis_def3.set_index(\"Unidade da Federação\")\n",
        "usaveis_ordenado = usaveis_def3.sort_values(by=\"Unidade da Federação\", ascending=False)\n",
        "\n",
        "coluna_cinco_estados = usaveis_ordenado.columns[-1]\n",
        "usaveis_ordenado = usaveis_ordenado[coluna_cinco_estados]\n",
        "\n",
        "usaveis_ordenado = usaveis_ordenado.sort_values(ascending =False)\n",
        "usaveis_ordenado.index = usaveis_ordenado.index.str[3:]\n",
        "usaveis_ordenado"
      ],
      "execution_count": 400,
      "outputs": [
        {
          "output_type": "execute_result",
          "data": {
            "text/plain": [
              "Unidade da Federação\n",
              "São Paulo              17740831771\n",
              "Minas Gerais            7978083800\n",
              "Rio de Janeiro          4914988448\n",
              "Paraná                  4348072907\n",
              "Pernambuco              3947273881\n",
              "Rio Grande do Sul       3779883280\n",
              "Bahia                   3131460244\n",
              "Goiás                   2486700102\n",
              "Santa Catarina          1937582256\n",
              "Maranhão                1729450911\n",
              "Ceará                   1717315155\n",
              "Espírito Santo          1560636811\n",
              "Distrito Federal        1473193843\n",
              "Pará                    1306956431\n",
              "Paraíba                 1251789405\n",
              "Piauí                    954215153\n",
              "Mato Grosso              883589009\n",
              "Rio Grande do Norte      873345536\n",
              "Alagoas                  818088721\n",
              "Amazonas                 679906080\n",
              "Rondônia                 473244104\n",
              "Mato Grosso do Sul       403598977\n",
              "Sergipe                  308108142\n",
              "Roraima                  238184431\n",
              "Acre                     113734165\n",
              "Amapá                     98915540\n",
              "Tocantins                 92875684\n",
              "Name: 2021/Mar, dtype: int64"
            ]
          },
          "metadata": {
            "tags": []
          },
          "execution_count": 400
        }
      ]
    },
    {
      "cell_type": "markdown",
      "metadata": {
        "id": "oIHHrPSEKTZp"
      },
      "source": [
        "#Desafio 01 - Entre nos dados do wikipedia e Leia a Base de dados direto do wikipedia."
      ]
    },
    {
      "cell_type": "code",
      "metadata": {
        "colab": {
          "base_uri": "https://localhost:8080/",
          "height": 197
        },
        "id": "whfbdzsZKVHR",
        "outputId": "a348326f-6f5f-4bc8-e833-ab38ff37dda1"
      },
      "source": [
        "#Fazendo a leitura da pagina html onde tem o <td>População (a tabela é identificada e colocada em uma lista.)\n",
        "html = pd.read_html(\"https://pt.wikipedia.org/wiki/Lista_de_unidades_federativas_do_Brasil_por_popula%C3%A7%C3%A3o\", match=\"População\")\n",
        "tabela = html[0]\n",
        "tabela.head()"
      ],
      "execution_count": 401,
      "outputs": [
        {
          "output_type": "execute_result",
          "data": {
            "text/html": [
              "<div>\n",
              "<style scoped>\n",
              "    .dataframe tbody tr th:only-of-type {\n",
              "        vertical-align: middle;\n",
              "    }\n",
              "\n",
              "    .dataframe tbody tr th {\n",
              "        vertical-align: top;\n",
              "    }\n",
              "\n",
              "    .dataframe thead th {\n",
              "        text-align: right;\n",
              "    }\n",
              "</style>\n",
              "<table border=\"1\" class=\"dataframe\">\n",
              "  <thead>\n",
              "    <tr style=\"text-align: right;\">\n",
              "      <th></th>\n",
              "      <th>Posição</th>\n",
              "      <th>Unidade federativa</th>\n",
              "      <th>População</th>\n",
              "      <th>% da pop. total</th>\n",
              "      <th>País comparável (habitantes)</th>\n",
              "    </tr>\n",
              "  </thead>\n",
              "  <tbody>\n",
              "    <tr>\n",
              "      <th>0</th>\n",
              "      <td>1</td>\n",
              "      <td>São Paulo</td>\n",
              "      <td>46 289 333</td>\n",
              "      <td>21,9%</td>\n",
              "      <td>Espanha (46 439 864)</td>\n",
              "    </tr>\n",
              "    <tr>\n",
              "      <th>1</th>\n",
              "      <td>2</td>\n",
              "      <td>Minas Gerais</td>\n",
              "      <td>21 292 666</td>\n",
              "      <td>10,1%</td>\n",
              "      <td>Sri Lanka (20 675 000)</td>\n",
              "    </tr>\n",
              "    <tr>\n",
              "      <th>2</th>\n",
              "      <td>3</td>\n",
              "      <td>Rio de Janeiro</td>\n",
              "      <td>17 366 189</td>\n",
              "      <td>8,2%</td>\n",
              "      <td>Países Baixos (16 922 900)</td>\n",
              "    </tr>\n",
              "    <tr>\n",
              "      <th>3</th>\n",
              "      <td>4</td>\n",
              "      <td>Bahia</td>\n",
              "      <td>14 930 634</td>\n",
              "      <td>7,1%</td>\n",
              "      <td>Chade (14 037 000)</td>\n",
              "    </tr>\n",
              "    <tr>\n",
              "      <th>4</th>\n",
              "      <td>5</td>\n",
              "      <td>Paraná</td>\n",
              "      <td>11 516 840</td>\n",
              "      <td>5,4%</td>\n",
              "      <td>Bolívia (11 410 651)</td>\n",
              "    </tr>\n",
              "  </tbody>\n",
              "</table>\n",
              "</div>"
            ],
            "text/plain": [
              "   Posição Unidade federativa  ... % da pop. total País comparável (habitantes)\n",
              "0        1          São Paulo  ...           21,9%         Espanha (46 439 864)\n",
              "1        2       Minas Gerais  ...           10,1%       Sri Lanka (20 675 000)\n",
              "2        3     Rio de Janeiro  ...            8,2%   Países Baixos (16 922 900)\n",
              "3        4              Bahia  ...            7,1%           Chade (14 037 000)\n",
              "4        5             Paraná  ...            5,4%         Bolívia (11 410 651)\n",
              "\n",
              "[5 rows x 5 columns]"
            ]
          },
          "metadata": {
            "tags": []
          },
          "execution_count": 401
        }
      ]
    },
    {
      "cell_type": "markdown",
      "metadata": {
        "id": "TJvLDuH-QKEK"
      },
      "source": [
        "#Desafio 02 - Neste desafio temos uma série de passos:\n",
        "Padronizar os nomes das colunas <br> \n",
        "Transformar os dados nos tipos corretos <br> \n",
        "Transformar a UF em index"
      ]
    },
    {
      "cell_type": "code",
      "metadata": {
        "colab": {
          "base_uri": "https://localhost:8080/",
          "height": 197
        },
        "id": "-Ji0y9goQN38",
        "outputId": "8b8b65cc-5a6d-4e39-ef3f-96d6e7171374"
      },
      "source": [
        "#renomeando os nomes das colunas\n",
        "tabela = tabela.rename(columns={\"População\":\"população\",\"Unidade federativa\":\"uf\",\n",
        "                               \"% da pop. total\":\"percentual\"})\n",
        "tabela.head()"
      ],
      "execution_count": 402,
      "outputs": [
        {
          "output_type": "execute_result",
          "data": {
            "text/html": [
              "<div>\n",
              "<style scoped>\n",
              "    .dataframe tbody tr th:only-of-type {\n",
              "        vertical-align: middle;\n",
              "    }\n",
              "\n",
              "    .dataframe tbody tr th {\n",
              "        vertical-align: top;\n",
              "    }\n",
              "\n",
              "    .dataframe thead th {\n",
              "        text-align: right;\n",
              "    }\n",
              "</style>\n",
              "<table border=\"1\" class=\"dataframe\">\n",
              "  <thead>\n",
              "    <tr style=\"text-align: right;\">\n",
              "      <th></th>\n",
              "      <th>Posição</th>\n",
              "      <th>uf</th>\n",
              "      <th>população</th>\n",
              "      <th>percentual</th>\n",
              "      <th>País comparável (habitantes)</th>\n",
              "    </tr>\n",
              "  </thead>\n",
              "  <tbody>\n",
              "    <tr>\n",
              "      <th>0</th>\n",
              "      <td>1</td>\n",
              "      <td>São Paulo</td>\n",
              "      <td>46 289 333</td>\n",
              "      <td>21,9%</td>\n",
              "      <td>Espanha (46 439 864)</td>\n",
              "    </tr>\n",
              "    <tr>\n",
              "      <th>1</th>\n",
              "      <td>2</td>\n",
              "      <td>Minas Gerais</td>\n",
              "      <td>21 292 666</td>\n",
              "      <td>10,1%</td>\n",
              "      <td>Sri Lanka (20 675 000)</td>\n",
              "    </tr>\n",
              "    <tr>\n",
              "      <th>2</th>\n",
              "      <td>3</td>\n",
              "      <td>Rio de Janeiro</td>\n",
              "      <td>17 366 189</td>\n",
              "      <td>8,2%</td>\n",
              "      <td>Países Baixos (16 922 900)</td>\n",
              "    </tr>\n",
              "    <tr>\n",
              "      <th>3</th>\n",
              "      <td>4</td>\n",
              "      <td>Bahia</td>\n",
              "      <td>14 930 634</td>\n",
              "      <td>7,1%</td>\n",
              "      <td>Chade (14 037 000)</td>\n",
              "    </tr>\n",
              "    <tr>\n",
              "      <th>4</th>\n",
              "      <td>5</td>\n",
              "      <td>Paraná</td>\n",
              "      <td>11 516 840</td>\n",
              "      <td>5,4%</td>\n",
              "      <td>Bolívia (11 410 651)</td>\n",
              "    </tr>\n",
              "  </tbody>\n",
              "</table>\n",
              "</div>"
            ],
            "text/plain": [
              "   Posição              uf   população percentual País comparável (habitantes)\n",
              "0        1       São Paulo  46 289 333      21,9%         Espanha (46 439 864)\n",
              "1        2    Minas Gerais  21 292 666      10,1%       Sri Lanka (20 675 000)\n",
              "2        3  Rio de Janeiro  17 366 189       8,2%   Países Baixos (16 922 900)\n",
              "3        4           Bahia  14 930 634       7,1%           Chade (14 037 000)\n",
              "4        5          Paraná  11 516 840       5,4%         Bolívia (11 410 651)"
            ]
          },
          "metadata": {
            "tags": []
          },
          "execution_count": 402
        }
      ]
    },
    {
      "cell_type": "code",
      "metadata": {
        "colab": {
          "base_uri": "https://localhost:8080/",
          "height": 197
        },
        "id": "uk0KF6VcRRVT",
        "outputId": "ab92f604-ce24-4c53-886e-a3bac71c5d0b"
      },
      "source": [
        "#retirando os espaços entre os números\n",
        "tabela[\"população\"] = tabela[\"população\"].str.replace(\" \", \"\")\n",
        "tabela[\"percentual\"] = tabela[\"percentual\"].str.replace(\"%\",\"\")\n",
        "tabela[\"percentual\"] = tabela[\"percentual\"].str.replace(\",\",\".\")\n",
        "tabela.head()"
      ],
      "execution_count": 403,
      "outputs": [
        {
          "output_type": "execute_result",
          "data": {
            "text/html": [
              "<div>\n",
              "<style scoped>\n",
              "    .dataframe tbody tr th:only-of-type {\n",
              "        vertical-align: middle;\n",
              "    }\n",
              "\n",
              "    .dataframe tbody tr th {\n",
              "        vertical-align: top;\n",
              "    }\n",
              "\n",
              "    .dataframe thead th {\n",
              "        text-align: right;\n",
              "    }\n",
              "</style>\n",
              "<table border=\"1\" class=\"dataframe\">\n",
              "  <thead>\n",
              "    <tr style=\"text-align: right;\">\n",
              "      <th></th>\n",
              "      <th>Posição</th>\n",
              "      <th>uf</th>\n",
              "      <th>população</th>\n",
              "      <th>percentual</th>\n",
              "      <th>País comparável (habitantes)</th>\n",
              "    </tr>\n",
              "  </thead>\n",
              "  <tbody>\n",
              "    <tr>\n",
              "      <th>0</th>\n",
              "      <td>1</td>\n",
              "      <td>São Paulo</td>\n",
              "      <td>46289333</td>\n",
              "      <td>21.9</td>\n",
              "      <td>Espanha (46 439 864)</td>\n",
              "    </tr>\n",
              "    <tr>\n",
              "      <th>1</th>\n",
              "      <td>2</td>\n",
              "      <td>Minas Gerais</td>\n",
              "      <td>21292666</td>\n",
              "      <td>10.1</td>\n",
              "      <td>Sri Lanka (20 675 000)</td>\n",
              "    </tr>\n",
              "    <tr>\n",
              "      <th>2</th>\n",
              "      <td>3</td>\n",
              "      <td>Rio de Janeiro</td>\n",
              "      <td>17366189</td>\n",
              "      <td>8.2</td>\n",
              "      <td>Países Baixos (16 922 900)</td>\n",
              "    </tr>\n",
              "    <tr>\n",
              "      <th>3</th>\n",
              "      <td>4</td>\n",
              "      <td>Bahia</td>\n",
              "      <td>14930634</td>\n",
              "      <td>7.1</td>\n",
              "      <td>Chade (14 037 000)</td>\n",
              "    </tr>\n",
              "    <tr>\n",
              "      <th>4</th>\n",
              "      <td>5</td>\n",
              "      <td>Paraná</td>\n",
              "      <td>11516840</td>\n",
              "      <td>5.4</td>\n",
              "      <td>Bolívia (11 410 651)</td>\n",
              "    </tr>\n",
              "  </tbody>\n",
              "</table>\n",
              "</div>"
            ],
            "text/plain": [
              "   Posição              uf população percentual País comparável (habitantes)\n",
              "0        1       São Paulo  46289333       21.9         Espanha (46 439 864)\n",
              "1        2    Minas Gerais  21292666       10.1       Sri Lanka (20 675 000)\n",
              "2        3  Rio de Janeiro  17366189        8.2   Países Baixos (16 922 900)\n",
              "3        4           Bahia  14930634        7.1           Chade (14 037 000)\n",
              "4        5          Paraná  11516840        5.4         Bolívia (11 410 651)"
            ]
          },
          "metadata": {
            "tags": []
          },
          "execution_count": 403
        }
      ]
    },
    {
      "cell_type": "code",
      "metadata": {
        "id": "L8fv6pszRvSS"
      },
      "source": [
        "#alterando os tipos\n",
        "tabela[\"uf\"] = tabela[\"uf\"].astype(str)\n",
        "tabela[\"população\"] = tabela[\"população\"].astype(int)\n",
        "tabela[\"percentual\"] = tabela[\"percentual\"].astype(float)"
      ],
      "execution_count": 404,
      "outputs": []
    },
    {
      "cell_type": "code",
      "metadata": {
        "colab": {
          "base_uri": "https://localhost:8080/",
          "height": 197
        },
        "id": "nfJbvlZDT_NT",
        "outputId": "21fa648f-d405-42b1-9668-ac669be57cf5"
      },
      "source": [
        "#selecionando somente as colunas que interessam\n",
        "tabela = tabela[[\"uf\", \"população\",\"percentual\"]]\n",
        "tabela.head()"
      ],
      "execution_count": 405,
      "outputs": [
        {
          "output_type": "execute_result",
          "data": {
            "text/html": [
              "<div>\n",
              "<style scoped>\n",
              "    .dataframe tbody tr th:only-of-type {\n",
              "        vertical-align: middle;\n",
              "    }\n",
              "\n",
              "    .dataframe tbody tr th {\n",
              "        vertical-align: top;\n",
              "    }\n",
              "\n",
              "    .dataframe thead th {\n",
              "        text-align: right;\n",
              "    }\n",
              "</style>\n",
              "<table border=\"1\" class=\"dataframe\">\n",
              "  <thead>\n",
              "    <tr style=\"text-align: right;\">\n",
              "      <th></th>\n",
              "      <th>uf</th>\n",
              "      <th>população</th>\n",
              "      <th>percentual</th>\n",
              "    </tr>\n",
              "  </thead>\n",
              "  <tbody>\n",
              "    <tr>\n",
              "      <th>0</th>\n",
              "      <td>São Paulo</td>\n",
              "      <td>46289333</td>\n",
              "      <td>21.90</td>\n",
              "    </tr>\n",
              "    <tr>\n",
              "      <th>1</th>\n",
              "      <td>Minas Gerais</td>\n",
              "      <td>21292666</td>\n",
              "      <td>10.10</td>\n",
              "    </tr>\n",
              "    <tr>\n",
              "      <th>2</th>\n",
              "      <td>Rio de Janeiro</td>\n",
              "      <td>17366189</td>\n",
              "      <td>8.20</td>\n",
              "    </tr>\n",
              "    <tr>\n",
              "      <th>3</th>\n",
              "      <td>Bahia</td>\n",
              "      <td>14930634</td>\n",
              "      <td>7.10</td>\n",
              "    </tr>\n",
              "    <tr>\n",
              "      <th>4</th>\n",
              "      <td>Paraná</td>\n",
              "      <td>11516840</td>\n",
              "      <td>5.40</td>\n",
              "    </tr>\n",
              "  </tbody>\n",
              "</table>\n",
              "</div>"
            ],
            "text/plain": [
              "               uf  população  percentual\n",
              "0       São Paulo   46289333       21.90\n",
              "1    Minas Gerais   21292666       10.10\n",
              "2  Rio de Janeiro   17366189        8.20\n",
              "3           Bahia   14930634        7.10\n",
              "4          Paraná   11516840        5.40"
            ]
          },
          "metadata": {
            "tags": []
          },
          "execution_count": 405
        }
      ]
    },
    {
      "cell_type": "code",
      "metadata": {
        "colab": {
          "base_uri": "https://localhost:8080/",
          "height": 887
        },
        "id": "O5nYhR87VMc7",
        "outputId": "bd1a9651-4372-493d-f2a1-586a5d3feb73"
      },
      "source": [
        "#setar o índice da tabela\n",
        "tabela = tabela.set_index(\"uf\")\n",
        "tabela"
      ],
      "execution_count": 406,
      "outputs": [
        {
          "output_type": "execute_result",
          "data": {
            "text/html": [
              "<div>\n",
              "<style scoped>\n",
              "    .dataframe tbody tr th:only-of-type {\n",
              "        vertical-align: middle;\n",
              "    }\n",
              "\n",
              "    .dataframe tbody tr th {\n",
              "        vertical-align: top;\n",
              "    }\n",
              "\n",
              "    .dataframe thead th {\n",
              "        text-align: right;\n",
              "    }\n",
              "</style>\n",
              "<table border=\"1\" class=\"dataframe\">\n",
              "  <thead>\n",
              "    <tr style=\"text-align: right;\">\n",
              "      <th></th>\n",
              "      <th>população</th>\n",
              "      <th>percentual</th>\n",
              "    </tr>\n",
              "    <tr>\n",
              "      <th>uf</th>\n",
              "      <th></th>\n",
              "      <th></th>\n",
              "    </tr>\n",
              "  </thead>\n",
              "  <tbody>\n",
              "    <tr>\n",
              "      <th>São Paulo</th>\n",
              "      <td>46289333</td>\n",
              "      <td>21.90</td>\n",
              "    </tr>\n",
              "    <tr>\n",
              "      <th>Minas Gerais</th>\n",
              "      <td>21292666</td>\n",
              "      <td>10.10</td>\n",
              "    </tr>\n",
              "    <tr>\n",
              "      <th>Rio de Janeiro</th>\n",
              "      <td>17366189</td>\n",
              "      <td>8.20</td>\n",
              "    </tr>\n",
              "    <tr>\n",
              "      <th>Bahia</th>\n",
              "      <td>14930634</td>\n",
              "      <td>7.10</td>\n",
              "    </tr>\n",
              "    <tr>\n",
              "      <th>Paraná</th>\n",
              "      <td>11516840</td>\n",
              "      <td>5.40</td>\n",
              "    </tr>\n",
              "    <tr>\n",
              "      <th>Rio Grande do Sul</th>\n",
              "      <td>11422973</td>\n",
              "      <td>5.40</td>\n",
              "    </tr>\n",
              "    <tr>\n",
              "      <th>Pernambuco</th>\n",
              "      <td>9616621</td>\n",
              "      <td>4.50</td>\n",
              "    </tr>\n",
              "    <tr>\n",
              "      <th>Ceará</th>\n",
              "      <td>9187103</td>\n",
              "      <td>4.30</td>\n",
              "    </tr>\n",
              "    <tr>\n",
              "      <th>Pará</th>\n",
              "      <td>8690745</td>\n",
              "      <td>4.10</td>\n",
              "    </tr>\n",
              "    <tr>\n",
              "      <th>Santa Catarina</th>\n",
              "      <td>7252502</td>\n",
              "      <td>3.40</td>\n",
              "    </tr>\n",
              "    <tr>\n",
              "      <th>Maranhão</th>\n",
              "      <td>7114598</td>\n",
              "      <td>3.40</td>\n",
              "    </tr>\n",
              "    <tr>\n",
              "      <th>Goiás</th>\n",
              "      <td>7113540</td>\n",
              "      <td>3.40</td>\n",
              "    </tr>\n",
              "    <tr>\n",
              "      <th>Amazonas</th>\n",
              "      <td>4207714</td>\n",
              "      <td>2.00</td>\n",
              "    </tr>\n",
              "    <tr>\n",
              "      <th>Espírito Santo</th>\n",
              "      <td>4064052</td>\n",
              "      <td>1.90</td>\n",
              "    </tr>\n",
              "    <tr>\n",
              "      <th>Paraíba</th>\n",
              "      <td>4039277</td>\n",
              "      <td>1.90</td>\n",
              "    </tr>\n",
              "    <tr>\n",
              "      <th>Rio Grande do Norte</th>\n",
              "      <td>3534165</td>\n",
              "      <td>1.70</td>\n",
              "    </tr>\n",
              "    <tr>\n",
              "      <th>Mato Grosso</th>\n",
              "      <td>3526220</td>\n",
              "      <td>1.70</td>\n",
              "    </tr>\n",
              "    <tr>\n",
              "      <th>Alagoas</th>\n",
              "      <td>3351543</td>\n",
              "      <td>1.60</td>\n",
              "    </tr>\n",
              "    <tr>\n",
              "      <th>Piauí</th>\n",
              "      <td>3281480</td>\n",
              "      <td>1.60</td>\n",
              "    </tr>\n",
              "    <tr>\n",
              "      <th>Distrito Federal</th>\n",
              "      <td>3055149</td>\n",
              "      <td>1.40</td>\n",
              "    </tr>\n",
              "    <tr>\n",
              "      <th>Mato Grosso do Sul</th>\n",
              "      <td>2809394</td>\n",
              "      <td>1.30</td>\n",
              "    </tr>\n",
              "    <tr>\n",
              "      <th>Sergipe</th>\n",
              "      <td>2318822</td>\n",
              "      <td>1.10</td>\n",
              "    </tr>\n",
              "    <tr>\n",
              "      <th>Rondônia</th>\n",
              "      <td>1796460</td>\n",
              "      <td>0.80</td>\n",
              "    </tr>\n",
              "    <tr>\n",
              "      <th>Tocantins</th>\n",
              "      <td>1590248</td>\n",
              "      <td>0.70</td>\n",
              "    </tr>\n",
              "    <tr>\n",
              "      <th>Acre</th>\n",
              "      <td>894470</td>\n",
              "      <td>0.40</td>\n",
              "    </tr>\n",
              "    <tr>\n",
              "      <th>Amapá</th>\n",
              "      <td>861773</td>\n",
              "      <td>0.40</td>\n",
              "    </tr>\n",
              "    <tr>\n",
              "      <th>Roraima</th>\n",
              "      <td>631181</td>\n",
              "      <td>0.30</td>\n",
              "    </tr>\n",
              "  </tbody>\n",
              "</table>\n",
              "</div>"
            ],
            "text/plain": [
              "                     população  percentual\n",
              "uf                                        \n",
              "São Paulo             46289333       21.90\n",
              "Minas Gerais          21292666       10.10\n",
              "Rio de Janeiro        17366189        8.20\n",
              "Bahia                 14930634        7.10\n",
              "Paraná                11516840        5.40\n",
              "Rio Grande do Sul     11422973        5.40\n",
              "Pernambuco             9616621        4.50\n",
              "Ceará                  9187103        4.30\n",
              "Pará                   8690745        4.10\n",
              "Santa Catarina         7252502        3.40\n",
              "Maranhão               7114598        3.40\n",
              "Goiás                  7113540        3.40\n",
              "Amazonas               4207714        2.00\n",
              "Espírito Santo         4064052        1.90\n",
              "Paraíba                4039277        1.90\n",
              "Rio Grande do Norte    3534165        1.70\n",
              "Mato Grosso            3526220        1.70\n",
              "Alagoas                3351543        1.60\n",
              "Piauí                  3281480        1.60\n",
              "Distrito Federal       3055149        1.40\n",
              "Mato Grosso do Sul     2809394        1.30\n",
              "Sergipe                2318822        1.10\n",
              "Rondônia               1796460        0.80\n",
              "Tocantins              1590248        0.70\n",
              "Acre                    894470        0.40\n",
              "Amapá                   861773        0.40\n",
              "Roraima                 631181        0.30"
            ]
          },
          "metadata": {
            "tags": []
          },
          "execution_count": 406
        }
      ]
    },
    {
      "cell_type": "markdown",
      "metadata": {
        "id": "V_1s0gnFVo_b"
      },
      "source": [
        "#Desafio 03 - Buscar na documentação alguns métodos envolvendo strings"
      ]
    },
    {
      "cell_type": "markdown",
      "metadata": {
        "id": "TOl0ROyKWiIk"
      },
      "source": [
        "str.count(\"a\") - conta o número de caracteres \"a\" na string <br>\n",
        "str.lower() - passa os caracteres para mínusculo <br>\n",
        "str.upper() - passa os caracteres para maíusculo <br>\n",
        "str.strip() - retira os espaços no inicio e fim da string <br> \n",
        "str.rstrip() - retira os espaços do lado direito das strings<br> \n",
        "str.lstrip() - retira os espaçoes do lado esquerdo das strings<br> \n",
        "str.replace(\" \",\"\") - troca um caracter por outro dentro de uma string\n",
        "\n"
      ]
    },
    {
      "cell_type": "markdown",
      "metadata": {
        "id": "_TfXXLvhYe2j"
      },
      "source": [
        "#Desafio 04 - Desenvolver uma função para a limpeza e tratamento dos dados, retornando duas tabelas \"população\" e \"unida\"."
      ]
    },
    {
      "cell_type": "code",
      "metadata": {
        "id": "PnMx0rxDVsUK"
      },
      "source": [
        "def limpeza_tratamento(usaveis_ordenado):\n",
        "\n",
        "  html = pd.read_html(\"https://pt.wikipedia.org/wiki/Lista_de_unidades_federativas_do_Brasil_por_popula%C3%A7%C3%A3o\", match=\"População\")\n",
        "  tab = html[0]\n",
        "  tab = tab.rename(columns={\"Unidade federativa\": \"uf\", \"População\":\"população\", \"% da pop. total\":\"percentual\"})\n",
        "\n",
        "  tab[\"população\"] = tab[\"população\"].str.replace(\" \", \"\")\n",
        "  tab[\"percentual\"] = tab[\"percentual\"].str.replace(\",\",\".\")\n",
        "  tab[\"percentual\"] = tab[\"percentual\"].str.replace(\"%\",\"\")\n",
        "\n",
        "  tab[\"uf\"] = tab[\"uf\"].astype(str)\n",
        "  tab[\"população\"] = tab[\"população\"].astype(int)\n",
        "  tab[\"percentual\"] = tab[\"percentual\"].astype(float)\n",
        "\n",
        "  tab = tab[[\"uf\",\"população\",\"percentual\"]]\n",
        "\n",
        "  tab = tab.set_index(\"uf\")\n",
        "\n",
        "  unida = tab.join(usaveis_ordenado)\n",
        "\n",
        "  \n",
        "  return tab, unida"
      ],
      "execution_count": 407,
      "outputs": []
    },
    {
      "cell_type": "code",
      "metadata": {
        "colab": {
          "base_uri": "https://localhost:8080/",
          "height": 227
        },
        "id": "u94gwLiMbZAT",
        "outputId": "36650bf3-1fc1-4dc5-e703-9ff67809136b"
      },
      "source": [
        "tab_retorno, unida_retorno = limpeza_tratamento(usaveis_ordenado)\n",
        "tab_retorno.head()"
      ],
      "execution_count": 408,
      "outputs": [
        {
          "output_type": "execute_result",
          "data": {
            "text/html": [
              "<div>\n",
              "<style scoped>\n",
              "    .dataframe tbody tr th:only-of-type {\n",
              "        vertical-align: middle;\n",
              "    }\n",
              "\n",
              "    .dataframe tbody tr th {\n",
              "        vertical-align: top;\n",
              "    }\n",
              "\n",
              "    .dataframe thead th {\n",
              "        text-align: right;\n",
              "    }\n",
              "</style>\n",
              "<table border=\"1\" class=\"dataframe\">\n",
              "  <thead>\n",
              "    <tr style=\"text-align: right;\">\n",
              "      <th></th>\n",
              "      <th>população</th>\n",
              "      <th>percentual</th>\n",
              "    </tr>\n",
              "    <tr>\n",
              "      <th>uf</th>\n",
              "      <th></th>\n",
              "      <th></th>\n",
              "    </tr>\n",
              "  </thead>\n",
              "  <tbody>\n",
              "    <tr>\n",
              "      <th>São Paulo</th>\n",
              "      <td>46289333</td>\n",
              "      <td>21.90</td>\n",
              "    </tr>\n",
              "    <tr>\n",
              "      <th>Minas Gerais</th>\n",
              "      <td>21292666</td>\n",
              "      <td>10.10</td>\n",
              "    </tr>\n",
              "    <tr>\n",
              "      <th>Rio de Janeiro</th>\n",
              "      <td>17366189</td>\n",
              "      <td>8.20</td>\n",
              "    </tr>\n",
              "    <tr>\n",
              "      <th>Bahia</th>\n",
              "      <td>14930634</td>\n",
              "      <td>7.10</td>\n",
              "    </tr>\n",
              "    <tr>\n",
              "      <th>Paraná</th>\n",
              "      <td>11516840</td>\n",
              "      <td>5.40</td>\n",
              "    </tr>\n",
              "  </tbody>\n",
              "</table>\n",
              "</div>"
            ],
            "text/plain": [
              "                população  percentual\n",
              "uf                                   \n",
              "São Paulo        46289333       21.90\n",
              "Minas Gerais     21292666       10.10\n",
              "Rio de Janeiro   17366189        8.20\n",
              "Bahia            14930634        7.10\n",
              "Paraná           11516840        5.40"
            ]
          },
          "metadata": {
            "tags": []
          },
          "execution_count": 408
        }
      ]
    },
    {
      "cell_type": "code",
      "metadata": {
        "colab": {
          "base_uri": "https://localhost:8080/",
          "height": 227
        },
        "id": "7W-esWtfj5Vj",
        "outputId": "780e4be7-a590-4d18-c5fe-6a50eff64d6c"
      },
      "source": [
        "unida_retorno.head()"
      ],
      "execution_count": 409,
      "outputs": [
        {
          "output_type": "execute_result",
          "data": {
            "text/html": [
              "<div>\n",
              "<style scoped>\n",
              "    .dataframe tbody tr th:only-of-type {\n",
              "        vertical-align: middle;\n",
              "    }\n",
              "\n",
              "    .dataframe tbody tr th {\n",
              "        vertical-align: top;\n",
              "    }\n",
              "\n",
              "    .dataframe thead th {\n",
              "        text-align: right;\n",
              "    }\n",
              "</style>\n",
              "<table border=\"1\" class=\"dataframe\">\n",
              "  <thead>\n",
              "    <tr style=\"text-align: right;\">\n",
              "      <th></th>\n",
              "      <th>população</th>\n",
              "      <th>percentual</th>\n",
              "      <th>2021/Mar</th>\n",
              "    </tr>\n",
              "    <tr>\n",
              "      <th>uf</th>\n",
              "      <th></th>\n",
              "      <th></th>\n",
              "      <th></th>\n",
              "    </tr>\n",
              "  </thead>\n",
              "  <tbody>\n",
              "    <tr>\n",
              "      <th>São Paulo</th>\n",
              "      <td>46289333</td>\n",
              "      <td>21.90</td>\n",
              "      <td>17740831771</td>\n",
              "    </tr>\n",
              "    <tr>\n",
              "      <th>Minas Gerais</th>\n",
              "      <td>21292666</td>\n",
              "      <td>10.10</td>\n",
              "      <td>7978083800</td>\n",
              "    </tr>\n",
              "    <tr>\n",
              "      <th>Rio de Janeiro</th>\n",
              "      <td>17366189</td>\n",
              "      <td>8.20</td>\n",
              "      <td>4914988448</td>\n",
              "    </tr>\n",
              "    <tr>\n",
              "      <th>Bahia</th>\n",
              "      <td>14930634</td>\n",
              "      <td>7.10</td>\n",
              "      <td>3131460244</td>\n",
              "    </tr>\n",
              "    <tr>\n",
              "      <th>Paraná</th>\n",
              "      <td>11516840</td>\n",
              "      <td>5.40</td>\n",
              "      <td>4348072907</td>\n",
              "    </tr>\n",
              "  </tbody>\n",
              "</table>\n",
              "</div>"
            ],
            "text/plain": [
              "                população  percentual     2021/Mar\n",
              "uf                                                \n",
              "São Paulo        46289333       21.90  17740831771\n",
              "Minas Gerais     21292666       10.10   7978083800\n",
              "Rio de Janeiro   17366189        8.20   4914988448\n",
              "Bahia            14930634        7.10   3131460244\n",
              "Paraná           11516840        5.40   4348072907"
            ]
          },
          "metadata": {
            "tags": []
          },
          "execution_count": 409
        }
      ]
    }
  ]
}