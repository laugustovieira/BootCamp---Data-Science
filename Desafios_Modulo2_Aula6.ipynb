{
  "nbformat": 4,
  "nbformat_minor": 0,
  "metadata": {
    "colab": {
      "name": "Desafios_Modulo2_Aula6.ipynb",
      "provenance": [],
      "collapsed_sections": [],
      "mount_file_id": "1jXBUp2AZhi5n5W2ml_k_Aogo6gr07v7_",
      "authorship_tag": "ABX9TyP4phO0UJ0hc5PhAnVMNPoe",
      "include_colab_link": true
    },
    "kernelspec": {
      "name": "python3",
      "display_name": "Python 3"
    },
    "language_info": {
      "name": "python"
    }
  },
  "cells": [
    {
      "cell_type": "markdown",
      "metadata": {
        "id": "view-in-github",
        "colab_type": "text"
      },
      "source": [
        "<a href=\"https://colab.research.google.com/github/laugustovieira/BootCamp-Data-Science/blob/main/Desafios_Modulo2_Aula6.ipynb\" target=\"_parent\"><img src=\"https://colab.research.google.com/assets/colab-badge.svg\" alt=\"Open In Colab\"/></a>"
      ]
    },
    {
      "cell_type": "markdown",
      "metadata": {
        "id": "ngVgUhMc7OCg"
      },
      "source": [
        "#Modulo 02 Aula 06"
      ]
    },
    {
      "cell_type": "markdown",
      "metadata": {
        "id": "xJfXrHnt7St-"
      },
      "source": [
        "#Importar Bibliotecas"
      ]
    },
    {
      "cell_type": "code",
      "metadata": {
        "id": "-BOfZO5e7NF_"
      },
      "source": [
        "import seaborn as sns\n",
        "import pandas as pd\n",
        "import matplotlib.pyplot as plt\n",
        "import matplotlib.ticker as ticker"
      ],
      "execution_count": 2,
      "outputs": []
    },
    {
      "cell_type": "markdown",
      "metadata": {
        "id": "BBo65XaA7_Jf"
      },
      "source": [
        "#Carregar informações"
      ]
    },
    {
      "cell_type": "code",
      "metadata": {
        "id": "XQVGLCH38D4v"
      },
      "source": [
        "dados = pd.read_csv(\"/content/drive/MyDrive/Dados_BootCamp/A005117189_28_143_208_2021_ATENDIMENTO.csv\", encoding=\"ISO-8859-1\",\n",
        "            sep=\";\", skiprows = 3, skipfooter = 12, engine = \"python\", thousands = \".\", decimal = \",\")"
      ],
      "execution_count": 3,
      "outputs": []
    },
    {
      "cell_type": "markdown",
      "metadata": {
        "id": "XqeCOqSJ7kxv"
      },
      "source": [
        "#Tratar Dados"
      ]
    },
    {
      "cell_type": "code",
      "metadata": {
        "id": "yZTzaBDu7n9_"
      },
      "source": [
        "pd.options.display.float_format = \"{:.2f}\".format\n"
      ],
      "execution_count": 4,
      "outputs": []
    },
    {
      "cell_type": "code",
      "metadata": {
        "colab": {
          "base_uri": "https://localhost:8080/",
          "height": 414
        },
        "id": "_l3epE3EaM3C",
        "outputId": "7b6ba95e-29a6-46fd-ace5-c799d9df78f2"
      },
      "source": [
        "colunas_usaveis_def3 = dados.mean().index.tolist()\n",
        "colunas_usaveis_def3.insert(0,\"Unidade da Federação\")\n",
        "\n",
        "usaveis_def3 = dados[colunas_usaveis_def3]\n",
        "usaveis_def3= usaveis_def3.drop(\"Total\", axis=1)\n",
        "usaveis_def3 = usaveis_def3.set_index(\"Unidade da Federação\")\n",
        "usaveis_ordenado = usaveis_def3.sort_values(by=\"Unidade da Federação\", ascending=False)\n",
        "usaveis_ordenado.index = usaveis_ordenado.index.str[3:]\n",
        "usaveis_ordenado = usaveis_ordenado[usaveis_ordenado.columns[6:]]\n",
        "usaveis_ordenado = usaveis_ordenado\n",
        "usaveis_ordenado.head()"
      ],
      "execution_count": 5,
      "outputs": [
        {
          "output_type": "execute_result",
          "data": {
            "text/html": [
              "<div>\n",
              "<style scoped>\n",
              "    .dataframe tbody tr th:only-of-type {\n",
              "        vertical-align: middle;\n",
              "    }\n",
              "\n",
              "    .dataframe tbody tr th {\n",
              "        vertical-align: top;\n",
              "    }\n",
              "\n",
              "    .dataframe thead th {\n",
              "        text-align: right;\n",
              "    }\n",
              "</style>\n",
              "<table border=\"1\" class=\"dataframe\">\n",
              "  <thead>\n",
              "    <tr style=\"text-align: right;\">\n",
              "      <th></th>\n",
              "      <th>2008/Fev</th>\n",
              "      <th>2008/Mar</th>\n",
              "      <th>2008/Abr</th>\n",
              "      <th>2008/Mai</th>\n",
              "      <th>2008/Jun</th>\n",
              "      <th>2008/Jul</th>\n",
              "      <th>2008/Ago</th>\n",
              "      <th>2008/Set</th>\n",
              "      <th>2008/Out</th>\n",
              "      <th>2008/Nov</th>\n",
              "      <th>2008/Dez</th>\n",
              "      <th>2009/Jan</th>\n",
              "      <th>2009/Fev</th>\n",
              "      <th>2009/Mar</th>\n",
              "      <th>2009/Abr</th>\n",
              "      <th>2009/Mai</th>\n",
              "      <th>2009/Jun</th>\n",
              "      <th>2009/Jul</th>\n",
              "      <th>2009/Ago</th>\n",
              "      <th>2009/Set</th>\n",
              "      <th>2009/Out</th>\n",
              "      <th>2009/Nov</th>\n",
              "      <th>2009/Dez</th>\n",
              "      <th>2010/Jan</th>\n",
              "      <th>2010/Fev</th>\n",
              "      <th>2010/Mar</th>\n",
              "      <th>2010/Abr</th>\n",
              "      <th>2010/Mai</th>\n",
              "      <th>2010/Jun</th>\n",
              "      <th>2010/Jul</th>\n",
              "      <th>2010/Ago</th>\n",
              "      <th>2010/Set</th>\n",
              "      <th>2010/Out</th>\n",
              "      <th>2010/Nov</th>\n",
              "      <th>2010/Dez</th>\n",
              "      <th>2011/Jan</th>\n",
              "      <th>2011/Fev</th>\n",
              "      <th>2011/Mar</th>\n",
              "      <th>2011/Abr</th>\n",
              "      <th>2011/Mai</th>\n",
              "      <th>...</th>\n",
              "      <th>2017/Dez</th>\n",
              "      <th>2018/Jan</th>\n",
              "      <th>2018/Fev</th>\n",
              "      <th>2018/Mar</th>\n",
              "      <th>2018/Abr</th>\n",
              "      <th>2018/Mai</th>\n",
              "      <th>2018/Jun</th>\n",
              "      <th>2018/Jul</th>\n",
              "      <th>2018/Ago</th>\n",
              "      <th>2018/Set</th>\n",
              "      <th>2018/Out</th>\n",
              "      <th>2018/Nov</th>\n",
              "      <th>2018/Dez</th>\n",
              "      <th>2019/Jan</th>\n",
              "      <th>2019/Fev</th>\n",
              "      <th>2019/Mar</th>\n",
              "      <th>2019/Abr</th>\n",
              "      <th>2019/Mai</th>\n",
              "      <th>2019/Jun</th>\n",
              "      <th>2019/Jul</th>\n",
              "      <th>2019/Ago</th>\n",
              "      <th>2019/Set</th>\n",
              "      <th>2019/Out</th>\n",
              "      <th>2019/Nov</th>\n",
              "      <th>2019/Dez</th>\n",
              "      <th>2020/Jan</th>\n",
              "      <th>2020/Fev</th>\n",
              "      <th>2020/Mar</th>\n",
              "      <th>2020/Abr</th>\n",
              "      <th>2020/Mai</th>\n",
              "      <th>2020/Jun</th>\n",
              "      <th>2020/Jul</th>\n",
              "      <th>2020/Ago</th>\n",
              "      <th>2020/Set</th>\n",
              "      <th>2020/Out</th>\n",
              "      <th>2020/Nov</th>\n",
              "      <th>2020/Dez</th>\n",
              "      <th>2021/Jan</th>\n",
              "      <th>2021/Fev</th>\n",
              "      <th>2021/Mar</th>\n",
              "    </tr>\n",
              "    <tr>\n",
              "      <th>Unidade da Federação</th>\n",
              "      <th></th>\n",
              "      <th></th>\n",
              "      <th></th>\n",
              "      <th></th>\n",
              "      <th></th>\n",
              "      <th></th>\n",
              "      <th></th>\n",
              "      <th></th>\n",
              "      <th></th>\n",
              "      <th></th>\n",
              "      <th></th>\n",
              "      <th></th>\n",
              "      <th></th>\n",
              "      <th></th>\n",
              "      <th></th>\n",
              "      <th></th>\n",
              "      <th></th>\n",
              "      <th></th>\n",
              "      <th></th>\n",
              "      <th></th>\n",
              "      <th></th>\n",
              "      <th></th>\n",
              "      <th></th>\n",
              "      <th></th>\n",
              "      <th></th>\n",
              "      <th></th>\n",
              "      <th></th>\n",
              "      <th></th>\n",
              "      <th></th>\n",
              "      <th></th>\n",
              "      <th></th>\n",
              "      <th></th>\n",
              "      <th></th>\n",
              "      <th></th>\n",
              "      <th></th>\n",
              "      <th></th>\n",
              "      <th></th>\n",
              "      <th></th>\n",
              "      <th></th>\n",
              "      <th></th>\n",
              "      <th></th>\n",
              "      <th></th>\n",
              "      <th></th>\n",
              "      <th></th>\n",
              "      <th></th>\n",
              "      <th></th>\n",
              "      <th></th>\n",
              "      <th></th>\n",
              "      <th></th>\n",
              "      <th></th>\n",
              "      <th></th>\n",
              "      <th></th>\n",
              "      <th></th>\n",
              "      <th></th>\n",
              "      <th></th>\n",
              "      <th></th>\n",
              "      <th></th>\n",
              "      <th></th>\n",
              "      <th></th>\n",
              "      <th></th>\n",
              "      <th></th>\n",
              "      <th></th>\n",
              "      <th></th>\n",
              "      <th></th>\n",
              "      <th></th>\n",
              "      <th></th>\n",
              "      <th></th>\n",
              "      <th></th>\n",
              "      <th></th>\n",
              "      <th></th>\n",
              "      <th></th>\n",
              "      <th></th>\n",
              "      <th></th>\n",
              "      <th></th>\n",
              "      <th></th>\n",
              "      <th></th>\n",
              "      <th></th>\n",
              "      <th></th>\n",
              "      <th></th>\n",
              "      <th></th>\n",
              "      <th></th>\n",
              "    </tr>\n",
              "  </thead>\n",
              "  <tbody>\n",
              "    <tr>\n",
              "      <th>Distrito Federal</th>\n",
              "      <td>10215956.80</td>\n",
              "      <td>11627918.26</td>\n",
              "      <td>11922015.36</td>\n",
              "      <td>11900817.00</td>\n",
              "      <td>11969271.76</td>\n",
              "      <td>11299443.00</td>\n",
              "      <td>11548451.89</td>\n",
              "      <td>12422577.60</td>\n",
              "      <td>12419976.84</td>\n",
              "      <td>12302698.99</td>\n",
              "      <td>12005669.60</td>\n",
              "      <td>13150489.00</td>\n",
              "      <td>12358825.51</td>\n",
              "      <td>14445518.57</td>\n",
              "      <td>14434211.04</td>\n",
              "      <td>14622167.93</td>\n",
              "      <td>14209413.80</td>\n",
              "      <td>14459081.79</td>\n",
              "      <td>15051993.46</td>\n",
              "      <td>14045711.83</td>\n",
              "      <td>13162775.24</td>\n",
              "      <td>13197596.70</td>\n",
              "      <td>12889509.22</td>\n",
              "      <td>13484046.67</td>\n",
              "      <td>13295738.66</td>\n",
              "      <td>14928384.44</td>\n",
              "      <td>13535496.11</td>\n",
              "      <td>14394599.86</td>\n",
              "      <td>13863063.00</td>\n",
              "      <td>14051586.56</td>\n",
              "      <td>15073336.93</td>\n",
              "      <td>14636724.40</td>\n",
              "      <td>14052063.36</td>\n",
              "      <td>14277016.84</td>\n",
              "      <td>12474757.39</td>\n",
              "      <td>14611655.44</td>\n",
              "      <td>13510243.87</td>\n",
              "      <td>15156900.72</td>\n",
              "      <td>14830081.29</td>\n",
              "      <td>15039803.35</td>\n",
              "      <td>...</td>\n",
              "      <td>16038710.79</td>\n",
              "      <td>18976846.56</td>\n",
              "      <td>18389240.38</td>\n",
              "      <td>19746542.97</td>\n",
              "      <td>19508159.58</td>\n",
              "      <td>19463161.26</td>\n",
              "      <td>18400388.35</td>\n",
              "      <td>18783802.78</td>\n",
              "      <td>20291741.30</td>\n",
              "      <td>19388061.07</td>\n",
              "      <td>19677470.12</td>\n",
              "      <td>18397893.23</td>\n",
              "      <td>17564774.75</td>\n",
              "      <td>19662949.33</td>\n",
              "      <td>18270823.61</td>\n",
              "      <td>20046081.24</td>\n",
              "      <td>20602037.52</td>\n",
              "      <td>21101108.01</td>\n",
              "      <td>19361819.39</td>\n",
              "      <td>21514926.74</td>\n",
              "      <td>21133361.51</td>\n",
              "      <td>20963621.60</td>\n",
              "      <td>21333585.20</td>\n",
              "      <td>19617400.92</td>\n",
              "      <td>19207148.01</td>\n",
              "      <td>20429251.56</td>\n",
              "      <td>18249176.79</td>\n",
              "      <td>19623112.14</td>\n",
              "      <td>18164306.94</td>\n",
              "      <td>21657768.52</td>\n",
              "      <td>25045580.62</td>\n",
              "      <td>26428483.82</td>\n",
              "      <td>23875303.68</td>\n",
              "      <td>21771866.33</td>\n",
              "      <td>23087586.62</td>\n",
              "      <td>20668526.36</td>\n",
              "      <td>22552034.04</td>\n",
              "      <td>22573869.50</td>\n",
              "      <td>19004029.87</td>\n",
              "      <td>14731938.43</td>\n",
              "    </tr>\n",
              "    <tr>\n",
              "      <th>Goiás</th>\n",
              "      <td>18149374.27</td>\n",
              "      <td>20992213.03</td>\n",
              "      <td>21049477.30</td>\n",
              "      <td>19162546.79</td>\n",
              "      <td>20362996.88</td>\n",
              "      <td>20022472.33</td>\n",
              "      <td>21054991.27</td>\n",
              "      <td>21410602.15</td>\n",
              "      <td>20610541.50</td>\n",
              "      <td>19940725.98</td>\n",
              "      <td>19343787.54</td>\n",
              "      <td>20817880.66</td>\n",
              "      <td>20215479.18</td>\n",
              "      <td>24174119.21</td>\n",
              "      <td>22943952.73</td>\n",
              "      <td>23781906.69</td>\n",
              "      <td>23683787.01</td>\n",
              "      <td>23293723.39</td>\n",
              "      <td>25835544.14</td>\n",
              "      <td>25151192.72</td>\n",
              "      <td>24757922.75</td>\n",
              "      <td>24104438.24</td>\n",
              "      <td>23202137.78</td>\n",
              "      <td>24629519.95</td>\n",
              "      <td>21862807.98</td>\n",
              "      <td>26568038.94</td>\n",
              "      <td>24607122.59</td>\n",
              "      <td>30114745.26</td>\n",
              "      <td>24546627.05</td>\n",
              "      <td>24647099.10</td>\n",
              "      <td>27313107.94</td>\n",
              "      <td>26571169.39</td>\n",
              "      <td>24729254.00</td>\n",
              "      <td>24006963.52</td>\n",
              "      <td>23938327.42</td>\n",
              "      <td>25579158.99</td>\n",
              "      <td>25471498.82</td>\n",
              "      <td>29978602.83</td>\n",
              "      <td>26873816.69</td>\n",
              "      <td>27695564.15</td>\n",
              "      <td>...</td>\n",
              "      <td>32418887.65</td>\n",
              "      <td>33774725.23</td>\n",
              "      <td>30951957.24</td>\n",
              "      <td>34889685.12</td>\n",
              "      <td>33793945.19</td>\n",
              "      <td>36429187.65</td>\n",
              "      <td>33535245.30</td>\n",
              "      <td>35400045.71</td>\n",
              "      <td>35408697.61</td>\n",
              "      <td>33813397.64</td>\n",
              "      <td>36064816.74</td>\n",
              "      <td>34904539.36</td>\n",
              "      <td>34092381.28</td>\n",
              "      <td>34795831.02</td>\n",
              "      <td>33292972.66</td>\n",
              "      <td>34964737.78</td>\n",
              "      <td>36236325.32</td>\n",
              "      <td>37829806.86</td>\n",
              "      <td>35400944.86</td>\n",
              "      <td>36502552.32</td>\n",
              "      <td>38533573.53</td>\n",
              "      <td>36415308.03</td>\n",
              "      <td>37217715.53</td>\n",
              "      <td>36302392.68</td>\n",
              "      <td>34078918.26</td>\n",
              "      <td>36432399.98</td>\n",
              "      <td>34248522.76</td>\n",
              "      <td>34808037.62</td>\n",
              "      <td>28760754.83</td>\n",
              "      <td>35104476.04</td>\n",
              "      <td>38888207.13</td>\n",
              "      <td>45871329.20</td>\n",
              "      <td>47568155.41</td>\n",
              "      <td>47951326.80</td>\n",
              "      <td>45304843.74</td>\n",
              "      <td>39785408.90</td>\n",
              "      <td>37614253.55</td>\n",
              "      <td>35655886.73</td>\n",
              "      <td>32253788.65</td>\n",
              "      <td>24867001.02</td>\n",
              "    </tr>\n",
              "    <tr>\n",
              "      <th>Mato Grosso</th>\n",
              "      <td>7929894.93</td>\n",
              "      <td>9416367.68</td>\n",
              "      <td>9390588.03</td>\n",
              "      <td>9378197.25</td>\n",
              "      <td>9450300.60</td>\n",
              "      <td>9789875.38</td>\n",
              "      <td>8987811.95</td>\n",
              "      <td>8843061.60</td>\n",
              "      <td>9237298.80</td>\n",
              "      <td>9459192.80</td>\n",
              "      <td>9210598.63</td>\n",
              "      <td>10039582.41</td>\n",
              "      <td>9326576.40</td>\n",
              "      <td>11680730.78</td>\n",
              "      <td>11102643.47</td>\n",
              "      <td>11495694.05</td>\n",
              "      <td>11386425.93</td>\n",
              "      <td>11658855.38</td>\n",
              "      <td>12339077.28</td>\n",
              "      <td>11600187.11</td>\n",
              "      <td>11262247.37</td>\n",
              "      <td>11734970.74</td>\n",
              "      <td>11065381.68</td>\n",
              "      <td>11839990.16</td>\n",
              "      <td>10826512.86</td>\n",
              "      <td>13243684.10</td>\n",
              "      <td>12240702.64</td>\n",
              "      <td>12781426.23</td>\n",
              "      <td>11614062.90</td>\n",
              "      <td>12193931.16</td>\n",
              "      <td>12213130.60</td>\n",
              "      <td>11923683.94</td>\n",
              "      <td>11703375.19</td>\n",
              "      <td>11484917.22</td>\n",
              "      <td>11231134.25</td>\n",
              "      <td>11689015.87</td>\n",
              "      <td>10872461.88</td>\n",
              "      <td>12323295.29</td>\n",
              "      <td>11875884.32</td>\n",
              "      <td>12160036.15</td>\n",
              "      <td>...</td>\n",
              "      <td>14473688.30</td>\n",
              "      <td>15578896.35</td>\n",
              "      <td>14592428.67</td>\n",
              "      <td>17252931.32</td>\n",
              "      <td>15921801.14</td>\n",
              "      <td>16732272.17</td>\n",
              "      <td>16075073.71</td>\n",
              "      <td>16479008.11</td>\n",
              "      <td>16011187.69</td>\n",
              "      <td>15357273.96</td>\n",
              "      <td>16834151.93</td>\n",
              "      <td>15474405.82</td>\n",
              "      <td>14234942.30</td>\n",
              "      <td>15055383.98</td>\n",
              "      <td>14478906.98</td>\n",
              "      <td>15976701.25</td>\n",
              "      <td>16026760.63</td>\n",
              "      <td>17304334.81</td>\n",
              "      <td>16131820.19</td>\n",
              "      <td>16467803.96</td>\n",
              "      <td>16532335.42</td>\n",
              "      <td>15596133.69</td>\n",
              "      <td>16564324.20</td>\n",
              "      <td>15122951.39</td>\n",
              "      <td>13839763.36</td>\n",
              "      <td>15546808.82</td>\n",
              "      <td>14460507.38</td>\n",
              "      <td>14493916.52</td>\n",
              "      <td>12187688.07</td>\n",
              "      <td>14675991.52</td>\n",
              "      <td>18546814.06</td>\n",
              "      <td>20681571.71</td>\n",
              "      <td>20936140.39</td>\n",
              "      <td>20176196.43</td>\n",
              "      <td>20387936.40</td>\n",
              "      <td>18316623.02</td>\n",
              "      <td>18852854.81</td>\n",
              "      <td>15890528.31</td>\n",
              "      <td>13207979.82</td>\n",
              "      <td>8835890.09</td>\n",
              "    </tr>\n",
              "    <tr>\n",
              "      <th>Mato Grosso do Sul</th>\n",
              "      <td>8279288.79</td>\n",
              "      <td>9793888.78</td>\n",
              "      <td>8997542.75</td>\n",
              "      <td>9842108.59</td>\n",
              "      <td>10257782.00</td>\n",
              "      <td>10167827.24</td>\n",
              "      <td>9602843.49</td>\n",
              "      <td>10272466.74</td>\n",
              "      <td>10814111.53</td>\n",
              "      <td>10371654.90</td>\n",
              "      <td>9140959.80</td>\n",
              "      <td>9771575.46</td>\n",
              "      <td>9648706.17</td>\n",
              "      <td>11784290.10</td>\n",
              "      <td>11240770.37</td>\n",
              "      <td>11155445.90</td>\n",
              "      <td>11796784.62</td>\n",
              "      <td>11956687.54</td>\n",
              "      <td>12420336.71</td>\n",
              "      <td>11489768.73</td>\n",
              "      <td>11698487.88</td>\n",
              "      <td>11286787.17</td>\n",
              "      <td>10814729.24</td>\n",
              "      <td>11570718.38</td>\n",
              "      <td>10920760.16</td>\n",
              "      <td>13204085.81</td>\n",
              "      <td>11711475.20</td>\n",
              "      <td>12671896.78</td>\n",
              "      <td>12584046.80</td>\n",
              "      <td>11808910.05</td>\n",
              "      <td>12917152.45</td>\n",
              "      <td>12429678.06</td>\n",
              "      <td>12526681.04</td>\n",
              "      <td>12305360.94</td>\n",
              "      <td>11190032.82</td>\n",
              "      <td>11894027.89</td>\n",
              "      <td>11691745.82</td>\n",
              "      <td>13243933.73</td>\n",
              "      <td>12611967.81</td>\n",
              "      <td>13435139.24</td>\n",
              "      <td>...</td>\n",
              "      <td>15040368.93</td>\n",
              "      <td>16146431.63</td>\n",
              "      <td>14703494.87</td>\n",
              "      <td>16969878.14</td>\n",
              "      <td>17062906.92</td>\n",
              "      <td>17068192.56</td>\n",
              "      <td>17143032.30</td>\n",
              "      <td>17435039.90</td>\n",
              "      <td>18239321.45</td>\n",
              "      <td>16963131.37</td>\n",
              "      <td>17677185.62</td>\n",
              "      <td>16363926.26</td>\n",
              "      <td>16149109.15</td>\n",
              "      <td>16902636.63</td>\n",
              "      <td>16964922.58</td>\n",
              "      <td>17259392.23</td>\n",
              "      <td>18147562.63</td>\n",
              "      <td>19143242.28</td>\n",
              "      <td>17905638.97</td>\n",
              "      <td>18126954.44</td>\n",
              "      <td>19217982.14</td>\n",
              "      <td>18904364.43</td>\n",
              "      <td>18812185.96</td>\n",
              "      <td>18316480.80</td>\n",
              "      <td>17844511.04</td>\n",
              "      <td>18654501.49</td>\n",
              "      <td>17877667.41</td>\n",
              "      <td>17395566.03</td>\n",
              "      <td>15854121.13</td>\n",
              "      <td>17502042.14</td>\n",
              "      <td>19724932.28</td>\n",
              "      <td>23639938.85</td>\n",
              "      <td>22608351.55</td>\n",
              "      <td>21519151.07</td>\n",
              "      <td>21825003.22</td>\n",
              "      <td>21418665.16</td>\n",
              "      <td>21387005.58</td>\n",
              "      <td>16027788.65</td>\n",
              "      <td>11428462.42</td>\n",
              "      <td>4035989.77</td>\n",
              "    </tr>\n",
              "    <tr>\n",
              "      <th>Rio Grande do Sul</th>\n",
              "      <td>45897704.82</td>\n",
              "      <td>52928695.92</td>\n",
              "      <td>51972416.77</td>\n",
              "      <td>51679350.79</td>\n",
              "      <td>53759674.01</td>\n",
              "      <td>56391647.77</td>\n",
              "      <td>56233758.74</td>\n",
              "      <td>57910170.98</td>\n",
              "      <td>59592124.91</td>\n",
              "      <td>57565742.08</td>\n",
              "      <td>55696920.94</td>\n",
              "      <td>61522380.02</td>\n",
              "      <td>52101637.77</td>\n",
              "      <td>65111965.49</td>\n",
              "      <td>61590828.91</td>\n",
              "      <td>64402291.62</td>\n",
              "      <td>63090640.55</td>\n",
              "      <td>69137004.88</td>\n",
              "      <td>66062629.79</td>\n",
              "      <td>65222011.32</td>\n",
              "      <td>67569409.19</td>\n",
              "      <td>64189115.30</td>\n",
              "      <td>62244282.80</td>\n",
              "      <td>65488387.87</td>\n",
              "      <td>56964528.31</td>\n",
              "      <td>69933577.14</td>\n",
              "      <td>66486835.62</td>\n",
              "      <td>69108367.47</td>\n",
              "      <td>67570770.09</td>\n",
              "      <td>70074754.73</td>\n",
              "      <td>70884009.17</td>\n",
              "      <td>65079794.92</td>\n",
              "      <td>66556015.62</td>\n",
              "      <td>66097030.85</td>\n",
              "      <td>61737098.13</td>\n",
              "      <td>66918913.09</td>\n",
              "      <td>61370763.60</td>\n",
              "      <td>69004974.80</td>\n",
              "      <td>66225068.29</td>\n",
              "      <td>72172669.74</td>\n",
              "      <td>...</td>\n",
              "      <td>82737574.48</td>\n",
              "      <td>91825671.54</td>\n",
              "      <td>77582012.38</td>\n",
              "      <td>91078325.19</td>\n",
              "      <td>91926773.80</td>\n",
              "      <td>91678131.98</td>\n",
              "      <td>90989887.85</td>\n",
              "      <td>94861008.10</td>\n",
              "      <td>96799643.23</td>\n",
              "      <td>87344269.09</td>\n",
              "      <td>97371100.06</td>\n",
              "      <td>90190767.67</td>\n",
              "      <td>81748880.30</td>\n",
              "      <td>92467100.02</td>\n",
              "      <td>85301000.44</td>\n",
              "      <td>91624338.70</td>\n",
              "      <td>92787953.22</td>\n",
              "      <td>99143937.75</td>\n",
              "      <td>95862593.49</td>\n",
              "      <td>103044767.94</td>\n",
              "      <td>98566147.88</td>\n",
              "      <td>94371567.58</td>\n",
              "      <td>96973500.30</td>\n",
              "      <td>91006554.37</td>\n",
              "      <td>88764855.22</td>\n",
              "      <td>97614085.43</td>\n",
              "      <td>85488519.32</td>\n",
              "      <td>84881491.62</td>\n",
              "      <td>76806748.32</td>\n",
              "      <td>87777332.11</td>\n",
              "      <td>96799361.58</td>\n",
              "      <td>108536525.93</td>\n",
              "      <td>111762290.19</td>\n",
              "      <td>110107867.30</td>\n",
              "      <td>113886837.47</td>\n",
              "      <td>116738266.69</td>\n",
              "      <td>116833971.73</td>\n",
              "      <td>102317646.36</td>\n",
              "      <td>84404640.00</td>\n",
              "      <td>37798832.80</td>\n",
              "    </tr>\n",
              "  </tbody>\n",
              "</table>\n",
              "<p>5 rows × 158 columns</p>\n",
              "</div>"
            ],
            "text/plain": [
              "                        2008/Fev    2008/Mar  ...    2021/Fev    2021/Mar\n",
              "Unidade da Federação                          ...                        \n",
              "Distrito Federal     10215956.80 11627918.26  ... 19004029.87 14731938.43\n",
              "Goiás                18149374.27 20992213.03  ... 32253788.65 24867001.02\n",
              "Mato Grosso           7929894.93  9416367.68  ... 13207979.82  8835890.09\n",
              "Mato Grosso do Sul    8279288.79  9793888.78  ... 11428462.42  4035989.77\n",
              "Rio Grande do Sul    45897704.82 52928695.92  ... 84404640.00 37798832.80\n",
              "\n",
              "[5 rows x 158 columns]"
            ]
          },
          "metadata": {
            "tags": []
          },
          "execution_count": 5
        }
      ]
    },
    {
      "cell_type": "code",
      "metadata": {
        "id": "igLGZwqkal0W",
        "colab": {
          "base_uri": "https://localhost:8080/",
          "height": 272
        },
        "outputId": "76e7bc75-9016-4655-913e-a2a7cf75d514"
      },
      "source": [
        "mensal = usaveis_ordenado.T\n",
        "mensal = mensal / 1000000\n",
        "mensal.head()"
      ],
      "execution_count": 6,
      "outputs": [
        {
          "output_type": "execute_result",
          "data": {
            "text/html": [
              "<div>\n",
              "<style scoped>\n",
              "    .dataframe tbody tr th:only-of-type {\n",
              "        vertical-align: middle;\n",
              "    }\n",
              "\n",
              "    .dataframe tbody tr th {\n",
              "        vertical-align: top;\n",
              "    }\n",
              "\n",
              "    .dataframe thead th {\n",
              "        text-align: right;\n",
              "    }\n",
              "</style>\n",
              "<table border=\"1\" class=\"dataframe\">\n",
              "  <thead>\n",
              "    <tr style=\"text-align: right;\">\n",
              "      <th>Unidade da Federação</th>\n",
              "      <th>Distrito Federal</th>\n",
              "      <th>Goiás</th>\n",
              "      <th>Mato Grosso</th>\n",
              "      <th>Mato Grosso do Sul</th>\n",
              "      <th>Rio Grande do Sul</th>\n",
              "      <th>Santa Catarina</th>\n",
              "      <th>Paraná</th>\n",
              "      <th>São Paulo</th>\n",
              "      <th>Rio de Janeiro</th>\n",
              "      <th>Espírito Santo</th>\n",
              "      <th>Minas Gerais</th>\n",
              "      <th>Bahia</th>\n",
              "      <th>Sergipe</th>\n",
              "      <th>Alagoas</th>\n",
              "      <th>Pernambuco</th>\n",
              "      <th>Paraíba</th>\n",
              "      <th>Rio Grande do Norte</th>\n",
              "      <th>Ceará</th>\n",
              "      <th>Piauí</th>\n",
              "      <th>Maranhão</th>\n",
              "      <th>Tocantins</th>\n",
              "      <th>Amapá</th>\n",
              "      <th>Pará</th>\n",
              "      <th>Roraima</th>\n",
              "      <th>Amazonas</th>\n",
              "      <th>Acre</th>\n",
              "      <th>Rondônia</th>\n",
              "    </tr>\n",
              "  </thead>\n",
              "  <tbody>\n",
              "    <tr>\n",
              "      <th>2008/Fev</th>\n",
              "      <td>10.22</td>\n",
              "      <td>18.15</td>\n",
              "      <td>7.93</td>\n",
              "      <td>8.28</td>\n",
              "      <td>45.90</td>\n",
              "      <td>24.41</td>\n",
              "      <td>48.86</td>\n",
              "      <td>172.96</td>\n",
              "      <td>44.13</td>\n",
              "      <td>10.03</td>\n",
              "      <td>70.30</td>\n",
              "      <td>33.41</td>\n",
              "      <td>4.64</td>\n",
              "      <td>8.11</td>\n",
              "      <td>26.22</td>\n",
              "      <td>10.87</td>\n",
              "      <td>9.11</td>\n",
              "      <td>27.64</td>\n",
              "      <td>9.71</td>\n",
              "      <td>13.45</td>\n",
              "      <td>5.05</td>\n",
              "      <td>1.28</td>\n",
              "      <td>20.13</td>\n",
              "      <td>0.77</td>\n",
              "      <td>7.93</td>\n",
              "      <td>1.74</td>\n",
              "      <td>1.94</td>\n",
              "    </tr>\n",
              "    <tr>\n",
              "      <th>2008/Mar</th>\n",
              "      <td>11.63</td>\n",
              "      <td>20.99</td>\n",
              "      <td>9.42</td>\n",
              "      <td>9.79</td>\n",
              "      <td>52.93</td>\n",
              "      <td>27.48</td>\n",
              "      <td>55.61</td>\n",
              "      <td>170.56</td>\n",
              "      <td>42.90</td>\n",
              "      <td>12.26</td>\n",
              "      <td>79.12</td>\n",
              "      <td>41.32</td>\n",
              "      <td>5.02</td>\n",
              "      <td>9.21</td>\n",
              "      <td>30.72</td>\n",
              "      <td>12.35</td>\n",
              "      <td>10.13</td>\n",
              "      <td>30.09</td>\n",
              "      <td>10.43</td>\n",
              "      <td>14.75</td>\n",
              "      <td>5.20</td>\n",
              "      <td>1.18</td>\n",
              "      <td>22.15</td>\n",
              "      <td>0.88</td>\n",
              "      <td>8.64</td>\n",
              "      <td>2.06</td>\n",
              "      <td>1.96</td>\n",
              "    </tr>\n",
              "    <tr>\n",
              "      <th>2008/Abr</th>\n",
              "      <td>11.92</td>\n",
              "      <td>21.05</td>\n",
              "      <td>9.39</td>\n",
              "      <td>9.00</td>\n",
              "      <td>51.97</td>\n",
              "      <td>27.81</td>\n",
              "      <td>56.12</td>\n",
              "      <td>170.34</td>\n",
              "      <td>45.31</td>\n",
              "      <td>12.45</td>\n",
              "      <td>79.05</td>\n",
              "      <td>42.83</td>\n",
              "      <td>5.27</td>\n",
              "      <td>10.47</td>\n",
              "      <td>30.59</td>\n",
              "      <td>12.68</td>\n",
              "      <td>10.96</td>\n",
              "      <td>31.38</td>\n",
              "      <td>10.23</td>\n",
              "      <td>15.15</td>\n",
              "      <td>5.34</td>\n",
              "      <td>1.40</td>\n",
              "      <td>23.44</td>\n",
              "      <td>0.90</td>\n",
              "      <td>8.53</td>\n",
              "      <td>2.06</td>\n",
              "      <td>2.14</td>\n",
              "    </tr>\n",
              "    <tr>\n",
              "      <th>2008/Mai</th>\n",
              "      <td>11.90</td>\n",
              "      <td>19.16</td>\n",
              "      <td>9.38</td>\n",
              "      <td>9.84</td>\n",
              "      <td>51.68</td>\n",
              "      <td>28.35</td>\n",
              "      <td>55.57</td>\n",
              "      <td>172.46</td>\n",
              "      <td>43.95</td>\n",
              "      <td>11.79</td>\n",
              "      <td>79.27</td>\n",
              "      <td>42.09</td>\n",
              "      <td>5.37</td>\n",
              "      <td>9.84</td>\n",
              "      <td>31.42</td>\n",
              "      <td>13.26</td>\n",
              "      <td>11.03</td>\n",
              "      <td>31.19</td>\n",
              "      <td>10.56</td>\n",
              "      <td>14.54</td>\n",
              "      <td>5.34</td>\n",
              "      <td>1.41</td>\n",
              "      <td>23.86</td>\n",
              "      <td>1.03</td>\n",
              "      <td>9.08</td>\n",
              "      <td>2.23</td>\n",
              "      <td>2.28</td>\n",
              "    </tr>\n",
              "    <tr>\n",
              "      <th>2008/Jun</th>\n",
              "      <td>11.97</td>\n",
              "      <td>20.36</td>\n",
              "      <td>9.45</td>\n",
              "      <td>10.26</td>\n",
              "      <td>53.76</td>\n",
              "      <td>28.99</td>\n",
              "      <td>56.09</td>\n",
              "      <td>175.49</td>\n",
              "      <td>44.11</td>\n",
              "      <td>11.89</td>\n",
              "      <td>79.62</td>\n",
              "      <td>39.91</td>\n",
              "      <td>4.98</td>\n",
              "      <td>10.30</td>\n",
              "      <td>28.95</td>\n",
              "      <td>12.25</td>\n",
              "      <td>10.45</td>\n",
              "      <td>29.46</td>\n",
              "      <td>10.47</td>\n",
              "      <td>14.55</td>\n",
              "      <td>5.40</td>\n",
              "      <td>1.42</td>\n",
              "      <td>23.50</td>\n",
              "      <td>0.94</td>\n",
              "      <td>8.65</td>\n",
              "      <td>2.11</td>\n",
              "      <td>2.62</td>\n",
              "    </tr>\n",
              "  </tbody>\n",
              "</table>\n",
              "</div>"
            ],
            "text/plain": [
              "Unidade da Federação  Distrito Federal  Goiás  ...  Acre  Rondônia\n",
              "2008/Fev                         10.22  18.15  ...  1.74      1.94\n",
              "2008/Mar                         11.63  20.99  ...  2.06      1.96\n",
              "2008/Abr                         11.92  21.05  ...  2.06      2.14\n",
              "2008/Mai                         11.90  19.16  ...  2.23      2.28\n",
              "2008/Jun                         11.97  20.36  ...  2.11      2.62\n",
              "\n",
              "[5 rows x 27 columns]"
            ]
          },
          "metadata": {
            "tags": []
          },
          "execution_count": 6
        }
      ]
    },
    {
      "cell_type": "code",
      "metadata": {
        "id": "ZcPr7HRIPXA4"
      },
      "source": [
        "from datetime import datetime\n",
        "from datetime import date"
      ],
      "execution_count": 7,
      "outputs": []
    },
    {
      "cell_type": "code",
      "metadata": {
        "id": "TZo35SanMoSw"
      },
      "source": [
        "meses = {\"Jan\":1,\n",
        "         \"Fev\":2,\n",
        "         \"Mar\":3,\n",
        "         \"Abr\":4,\n",
        "         \"Mai\":5,\n",
        "         \"Jun\":6,\n",
        "         \"Jul\":7,\n",
        "         \"Ago\":8,\n",
        "         \"Set\":9,\n",
        "         \"Out\":10,\n",
        "         \"Nov\":11,\n",
        "         \"Dez\":12}\n",
        "\n",
        "def para_data(ano_mes):\n",
        "  ano = int(ano_mes[0:4])\n",
        "  mes = ano_mes[5:8]\n",
        "  mes = int(meses[mes])\n",
        "  return date(ano, mes, 1)\n",
        "\n",
        "mensal.index = mensal.index.map(para_data)"
      ],
      "execution_count": 8,
      "outputs": []
    },
    {
      "cell_type": "code",
      "metadata": {
        "colab": {
          "base_uri": "https://localhost:8080/",
          "height": 355
        },
        "id": "u99lXRHvP7o3",
        "outputId": "40e88151-e6a8-4b02-a1f2-2bd37b2f38c9"
      },
      "source": [
        "mensal.head()"
      ],
      "execution_count": 9,
      "outputs": [
        {
          "output_type": "execute_result",
          "data": {
            "text/html": [
              "<div>\n",
              "<style scoped>\n",
              "    .dataframe tbody tr th:only-of-type {\n",
              "        vertical-align: middle;\n",
              "    }\n",
              "\n",
              "    .dataframe tbody tr th {\n",
              "        vertical-align: top;\n",
              "    }\n",
              "\n",
              "    .dataframe thead th {\n",
              "        text-align: right;\n",
              "    }\n",
              "</style>\n",
              "<table border=\"1\" class=\"dataframe\">\n",
              "  <thead>\n",
              "    <tr style=\"text-align: right;\">\n",
              "      <th>Unidade da Federação</th>\n",
              "      <th>Distrito Federal</th>\n",
              "      <th>Goiás</th>\n",
              "      <th>Mato Grosso</th>\n",
              "      <th>Mato Grosso do Sul</th>\n",
              "      <th>Rio Grande do Sul</th>\n",
              "      <th>Santa Catarina</th>\n",
              "      <th>Paraná</th>\n",
              "      <th>São Paulo</th>\n",
              "      <th>Rio de Janeiro</th>\n",
              "      <th>Espírito Santo</th>\n",
              "      <th>Minas Gerais</th>\n",
              "      <th>Bahia</th>\n",
              "      <th>Sergipe</th>\n",
              "      <th>Alagoas</th>\n",
              "      <th>Pernambuco</th>\n",
              "      <th>Paraíba</th>\n",
              "      <th>Rio Grande do Norte</th>\n",
              "      <th>Ceará</th>\n",
              "      <th>Piauí</th>\n",
              "      <th>Maranhão</th>\n",
              "      <th>Tocantins</th>\n",
              "      <th>Amapá</th>\n",
              "      <th>Pará</th>\n",
              "      <th>Roraima</th>\n",
              "      <th>Amazonas</th>\n",
              "      <th>Acre</th>\n",
              "      <th>Rondônia</th>\n",
              "    </tr>\n",
              "  </thead>\n",
              "  <tbody>\n",
              "    <tr>\n",
              "      <th>2008-02-01</th>\n",
              "      <td>10.22</td>\n",
              "      <td>18.15</td>\n",
              "      <td>7.93</td>\n",
              "      <td>8.28</td>\n",
              "      <td>45.90</td>\n",
              "      <td>24.41</td>\n",
              "      <td>48.86</td>\n",
              "      <td>172.96</td>\n",
              "      <td>44.13</td>\n",
              "      <td>10.03</td>\n",
              "      <td>70.30</td>\n",
              "      <td>33.41</td>\n",
              "      <td>4.64</td>\n",
              "      <td>8.11</td>\n",
              "      <td>26.22</td>\n",
              "      <td>10.87</td>\n",
              "      <td>9.11</td>\n",
              "      <td>27.64</td>\n",
              "      <td>9.71</td>\n",
              "      <td>13.45</td>\n",
              "      <td>5.05</td>\n",
              "      <td>1.28</td>\n",
              "      <td>20.13</td>\n",
              "      <td>0.77</td>\n",
              "      <td>7.93</td>\n",
              "      <td>1.74</td>\n",
              "      <td>1.94</td>\n",
              "    </tr>\n",
              "    <tr>\n",
              "      <th>2008-03-01</th>\n",
              "      <td>11.63</td>\n",
              "      <td>20.99</td>\n",
              "      <td>9.42</td>\n",
              "      <td>9.79</td>\n",
              "      <td>52.93</td>\n",
              "      <td>27.48</td>\n",
              "      <td>55.61</td>\n",
              "      <td>170.56</td>\n",
              "      <td>42.90</td>\n",
              "      <td>12.26</td>\n",
              "      <td>79.12</td>\n",
              "      <td>41.32</td>\n",
              "      <td>5.02</td>\n",
              "      <td>9.21</td>\n",
              "      <td>30.72</td>\n",
              "      <td>12.35</td>\n",
              "      <td>10.13</td>\n",
              "      <td>30.09</td>\n",
              "      <td>10.43</td>\n",
              "      <td>14.75</td>\n",
              "      <td>5.20</td>\n",
              "      <td>1.18</td>\n",
              "      <td>22.15</td>\n",
              "      <td>0.88</td>\n",
              "      <td>8.64</td>\n",
              "      <td>2.06</td>\n",
              "      <td>1.96</td>\n",
              "    </tr>\n",
              "    <tr>\n",
              "      <th>2008-04-01</th>\n",
              "      <td>11.92</td>\n",
              "      <td>21.05</td>\n",
              "      <td>9.39</td>\n",
              "      <td>9.00</td>\n",
              "      <td>51.97</td>\n",
              "      <td>27.81</td>\n",
              "      <td>56.12</td>\n",
              "      <td>170.34</td>\n",
              "      <td>45.31</td>\n",
              "      <td>12.45</td>\n",
              "      <td>79.05</td>\n",
              "      <td>42.83</td>\n",
              "      <td>5.27</td>\n",
              "      <td>10.47</td>\n",
              "      <td>30.59</td>\n",
              "      <td>12.68</td>\n",
              "      <td>10.96</td>\n",
              "      <td>31.38</td>\n",
              "      <td>10.23</td>\n",
              "      <td>15.15</td>\n",
              "      <td>5.34</td>\n",
              "      <td>1.40</td>\n",
              "      <td>23.44</td>\n",
              "      <td>0.90</td>\n",
              "      <td>8.53</td>\n",
              "      <td>2.06</td>\n",
              "      <td>2.14</td>\n",
              "    </tr>\n",
              "    <tr>\n",
              "      <th>2008-05-01</th>\n",
              "      <td>11.90</td>\n",
              "      <td>19.16</td>\n",
              "      <td>9.38</td>\n",
              "      <td>9.84</td>\n",
              "      <td>51.68</td>\n",
              "      <td>28.35</td>\n",
              "      <td>55.57</td>\n",
              "      <td>172.46</td>\n",
              "      <td>43.95</td>\n",
              "      <td>11.79</td>\n",
              "      <td>79.27</td>\n",
              "      <td>42.09</td>\n",
              "      <td>5.37</td>\n",
              "      <td>9.84</td>\n",
              "      <td>31.42</td>\n",
              "      <td>13.26</td>\n",
              "      <td>11.03</td>\n",
              "      <td>31.19</td>\n",
              "      <td>10.56</td>\n",
              "      <td>14.54</td>\n",
              "      <td>5.34</td>\n",
              "      <td>1.41</td>\n",
              "      <td>23.86</td>\n",
              "      <td>1.03</td>\n",
              "      <td>9.08</td>\n",
              "      <td>2.23</td>\n",
              "      <td>2.28</td>\n",
              "    </tr>\n",
              "    <tr>\n",
              "      <th>2008-06-01</th>\n",
              "      <td>11.97</td>\n",
              "      <td>20.36</td>\n",
              "      <td>9.45</td>\n",
              "      <td>10.26</td>\n",
              "      <td>53.76</td>\n",
              "      <td>28.99</td>\n",
              "      <td>56.09</td>\n",
              "      <td>175.49</td>\n",
              "      <td>44.11</td>\n",
              "      <td>11.89</td>\n",
              "      <td>79.62</td>\n",
              "      <td>39.91</td>\n",
              "      <td>4.98</td>\n",
              "      <td>10.30</td>\n",
              "      <td>28.95</td>\n",
              "      <td>12.25</td>\n",
              "      <td>10.45</td>\n",
              "      <td>29.46</td>\n",
              "      <td>10.47</td>\n",
              "      <td>14.55</td>\n",
              "      <td>5.40</td>\n",
              "      <td>1.42</td>\n",
              "      <td>23.50</td>\n",
              "      <td>0.94</td>\n",
              "      <td>8.65</td>\n",
              "      <td>2.11</td>\n",
              "      <td>2.62</td>\n",
              "    </tr>\n",
              "  </tbody>\n",
              "</table>\n",
              "</div>"
            ],
            "text/plain": [
              "Unidade da Federação  Distrito Federal  Goiás  ...  Acre  Rondônia\n",
              "2008-02-01                       10.22  18.15  ...  1.74      1.94\n",
              "2008-03-01                       11.63  20.99  ...  2.06      1.96\n",
              "2008-04-01                       11.92  21.05  ...  2.06      2.14\n",
              "2008-05-01                       11.90  19.16  ...  2.23      2.28\n",
              "2008-06-01                       11.97  20.36  ...  2.11      2.62\n",
              "\n",
              "[5 rows x 27 columns]"
            ]
          },
          "metadata": {
            "tags": []
          },
          "execution_count": 9
        }
      ]
    },
    {
      "cell_type": "code",
      "metadata": {
        "colab": {
          "base_uri": "https://localhost:8080/",
          "height": 388
        },
        "id": "5qsEgYEuQUyo",
        "outputId": "e6edd506-f759-4bd7-e16b-7c480864ff70"
      },
      "source": [
        "plt.figure(figsize = (10,6))\n",
        "ax = sns.lineplot(data = mensal, x=mensal.index, y=\"São Paulo\")\n",
        "plt.xticks(rotation=30)\n",
        "#comentando a linha abaixo percebe que o plota o gráfico por ano\n",
        "#ax.xaxis.set_major_locator(ticker.IndexLocator(base=12,offset=11))\n",
        "plt.grid(True, linestyle='--')\n",
        "plt.ylim(0,400)\n",
        "# colocar como o método achar melhor a representação do eixo x\n",
        "#ax.xaxis.set_major_locator(ticker.AutoLocator())\n",
        "plt.show()"
      ],
      "execution_count": 10,
      "outputs": [
        {
          "output_type": "display_data",
          "data": {
            "image/png": "[encoded data removed]",
            "text/plain": [
              "<Figure size 720x432 with 1 Axes>"
            ]
          },
          "metadata": {
            "tags": [],
            "needs_background": "light"
          }
        }
      ]
    },
    {
      "cell_type": "code",
      "metadata": {
        "id": "iitpeIX_ZOlU",
        "colab": {
          "base_uri": "https://localhost:8080/",
          "height": 202
        },
        "outputId": "4396ad86-92b3-48d8-b6c7-b0379a9db90a"
      },
      "source": [
        "#utilizando o melt para transformar cada coluna em uma linha\n",
        "mensal_aberto = mensal.reset_index().melt(id_vars=[\"index\"])\n",
        "mensal_aberto.columns = [\"dia_mes_ano\",\"uf\",\"gastos\"]\n",
        "mensal_aberto.head()"
      ],
      "execution_count": 11,
      "outputs": [
        {
          "output_type": "execute_result",
          "data": {
            "text/html": [
              "<div>\n",
              "<style scoped>\n",
              "    .dataframe tbody tr th:only-of-type {\n",
              "        vertical-align: middle;\n",
              "    }\n",
              "\n",
              "    .dataframe tbody tr th {\n",
              "        vertical-align: top;\n",
              "    }\n",
              "\n",
              "    .dataframe thead th {\n",
              "        text-align: right;\n",
              "    }\n",
              "</style>\n",
              "<table border=\"1\" class=\"dataframe\">\n",
              "  <thead>\n",
              "    <tr style=\"text-align: right;\">\n",
              "      <th></th>\n",
              "      <th>dia_mes_ano</th>\n",
              "      <th>uf</th>\n",
              "      <th>gastos</th>\n",
              "    </tr>\n",
              "  </thead>\n",
              "  <tbody>\n",
              "    <tr>\n",
              "      <th>0</th>\n",
              "      <td>2008-02-01</td>\n",
              "      <td>Distrito Federal</td>\n",
              "      <td>10.22</td>\n",
              "    </tr>\n",
              "    <tr>\n",
              "      <th>1</th>\n",
              "      <td>2008-03-01</td>\n",
              "      <td>Distrito Federal</td>\n",
              "      <td>11.63</td>\n",
              "    </tr>\n",
              "    <tr>\n",
              "      <th>2</th>\n",
              "      <td>2008-04-01</td>\n",
              "      <td>Distrito Federal</td>\n",
              "      <td>11.92</td>\n",
              "    </tr>\n",
              "    <tr>\n",
              "      <th>3</th>\n",
              "      <td>2008-05-01</td>\n",
              "      <td>Distrito Federal</td>\n",
              "      <td>11.90</td>\n",
              "    </tr>\n",
              "    <tr>\n",
              "      <th>4</th>\n",
              "      <td>2008-06-01</td>\n",
              "      <td>Distrito Federal</td>\n",
              "      <td>11.97</td>\n",
              "    </tr>\n",
              "  </tbody>\n",
              "</table>\n",
              "</div>"
            ],
            "text/plain": [
              "  dia_mes_ano                uf  gastos\n",
              "0  2008-02-01  Distrito Federal   10.22\n",
              "1  2008-03-01  Distrito Federal   11.63\n",
              "2  2008-04-01  Distrito Federal   11.92\n",
              "3  2008-05-01  Distrito Federal   11.90\n",
              "4  2008-06-01  Distrito Federal   11.97"
            ]
          },
          "metadata": {
            "tags": []
          },
          "execution_count": 11
        }
      ]
    },
    {
      "cell_type": "code",
      "metadata": {
        "colab": {
          "base_uri": "https://localhost:8080/",
          "height": 202
        },
        "id": "c-li4WsnHQas",
        "outputId": "5397fdb2-368d-46d8-964c-f9ced92a14ca"
      },
      "source": [
        "dias_mes = {1:31,\n",
        "            2:28,\n",
        "            3:31,\n",
        "            4:30,\n",
        "            5:31,\n",
        "            6:30,\n",
        "            7:31,\n",
        "            8:31,\n",
        "            9:30,\n",
        "            10:31,\n",
        "            11:30,\n",
        "            12:31}\n",
        "\n",
        "meses_extenso = {1:\"Janeiro\",\n",
        "                  2:\"Fevereiro\",\n",
        "                  3:\"Março\",\n",
        "                  4:\"Abril\",\n",
        "                  5:\"Maio\",\n",
        "                  6:\"Junho\",\n",
        "                  7:\"Julho\",\n",
        "                  8:\"Agosto\",\n",
        "                  9:\"Setembro\",\n",
        "                  10:\"Outubro\",\n",
        "                  11:\"Novembro\",\n",
        "                  12:\"Dezembro\"}\n",
        "mensal_aberto[\"dia_mes_ano\"] = mensal_aberto[\"dia_mes_ano\"].astype(\"datetime64\")\n",
        "mensal_aberto[\"mes\"] = mensal_aberto[\"dia_mes_ano\"].dt.month\n",
        "mensal_aberto[\"ano\"] = mensal_aberto[\"dia_mes_ano\"].dt.year\n",
        "mensal_aberto[\"mes_extenso\"] = mensal_aberto[\"mes\"].map(meses_extenso)\n",
        "mensal_aberto[\"mes_extenso\"] = mensal_aberto[\"mes_extenso\"].astype(str)\n",
        "mensal_aberto[\"gasto_dia\"] = mensal_aberto[\"gastos\"] / mensal_aberto[\"mes\"].map(dias_mes)\n",
        "mensal_aberto.head()"
      ],
      "execution_count": 12,
      "outputs": [
        {
          "output_type": "execute_result",
          "data": {
            "text/html": [
              "<div>\n",
              "<style scoped>\n",
              "    .dataframe tbody tr th:only-of-type {\n",
              "        vertical-align: middle;\n",
              "    }\n",
              "\n",
              "    .dataframe tbody tr th {\n",
              "        vertical-align: top;\n",
              "    }\n",
              "\n",
              "    .dataframe thead th {\n",
              "        text-align: right;\n",
              "    }\n",
              "</style>\n",
              "<table border=\"1\" class=\"dataframe\">\n",
              "  <thead>\n",
              "    <tr style=\"text-align: right;\">\n",
              "      <th></th>\n",
              "      <th>dia_mes_ano</th>\n",
              "      <th>uf</th>\n",
              "      <th>gastos</th>\n",
              "      <th>mes</th>\n",
              "      <th>ano</th>\n",
              "      <th>mes_extenso</th>\n",
              "      <th>gasto_dia</th>\n",
              "    </tr>\n",
              "  </thead>\n",
              "  <tbody>\n",
              "    <tr>\n",
              "      <th>0</th>\n",
              "      <td>2008-02-01</td>\n",
              "      <td>Distrito Federal</td>\n",
              "      <td>10.22</td>\n",
              "      <td>2</td>\n",
              "      <td>2008</td>\n",
              "      <td>Fevereiro</td>\n",
              "      <td>0.36</td>\n",
              "    </tr>\n",
              "    <tr>\n",
              "      <th>1</th>\n",
              "      <td>2008-03-01</td>\n",
              "      <td>Distrito Federal</td>\n",
              "      <td>11.63</td>\n",
              "      <td>3</td>\n",
              "      <td>2008</td>\n",
              "      <td>Março</td>\n",
              "      <td>0.38</td>\n",
              "    </tr>\n",
              "    <tr>\n",
              "      <th>2</th>\n",
              "      <td>2008-04-01</td>\n",
              "      <td>Distrito Federal</td>\n",
              "      <td>11.92</td>\n",
              "      <td>4</td>\n",
              "      <td>2008</td>\n",
              "      <td>Abril</td>\n",
              "      <td>0.40</td>\n",
              "    </tr>\n",
              "    <tr>\n",
              "      <th>3</th>\n",
              "      <td>2008-05-01</td>\n",
              "      <td>Distrito Federal</td>\n",
              "      <td>11.90</td>\n",
              "      <td>5</td>\n",
              "      <td>2008</td>\n",
              "      <td>Maio</td>\n",
              "      <td>0.38</td>\n",
              "    </tr>\n",
              "    <tr>\n",
              "      <th>4</th>\n",
              "      <td>2008-06-01</td>\n",
              "      <td>Distrito Federal</td>\n",
              "      <td>11.97</td>\n",
              "      <td>6</td>\n",
              "      <td>2008</td>\n",
              "      <td>Junho</td>\n",
              "      <td>0.40</td>\n",
              "    </tr>\n",
              "  </tbody>\n",
              "</table>\n",
              "</div>"
            ],
            "text/plain": [
              "  dia_mes_ano                uf  gastos  mes   ano mes_extenso  gasto_dia\n",
              "0  2008-02-01  Distrito Federal   10.22    2  2008   Fevereiro       0.36\n",
              "1  2008-03-01  Distrito Federal   11.63    3  2008       Março       0.38\n",
              "2  2008-04-01  Distrito Federal   11.92    4  2008       Abril       0.40\n",
              "3  2008-05-01  Distrito Federal   11.90    5  2008        Maio       0.38\n",
              "4  2008-06-01  Distrito Federal   11.97    6  2008       Junho       0.40"
            ]
          },
          "metadata": {
            "tags": []
          },
          "execution_count": 12
        }
      ]
    },
    {
      "cell_type": "code",
      "metadata": {
        "colab": {
          "base_uri": "https://localhost:8080/",
          "height": 202
        },
        "id": "TsYs-nH41-0a",
        "outputId": "b4c115ff-91c3-43b7-c7d5-5914957b2cb4"
      },
      "source": [
        "estado_analisar = mensal_aberto.query(\"uf=='São Paulo'\")\n",
        "estado_analisar.head()"
      ],
      "execution_count": 15,
      "outputs": [
        {
          "output_type": "execute_result",
          "data": {
            "text/html": [
              "<div>\n",
              "<style scoped>\n",
              "    .dataframe tbody tr th:only-of-type {\n",
              "        vertical-align: middle;\n",
              "    }\n",
              "\n",
              "    .dataframe tbody tr th {\n",
              "        vertical-align: top;\n",
              "    }\n",
              "\n",
              "    .dataframe thead th {\n",
              "        text-align: right;\n",
              "    }\n",
              "</style>\n",
              "<table border=\"1\" class=\"dataframe\">\n",
              "  <thead>\n",
              "    <tr style=\"text-align: right;\">\n",
              "      <th></th>\n",
              "      <th>dia_mes_ano</th>\n",
              "      <th>uf</th>\n",
              "      <th>gastos</th>\n",
              "      <th>mes</th>\n",
              "      <th>ano</th>\n",
              "      <th>mes_extenso</th>\n",
              "      <th>gasto_dia</th>\n",
              "    </tr>\n",
              "  </thead>\n",
              "  <tbody>\n",
              "    <tr>\n",
              "      <th>1106</th>\n",
              "      <td>2008-02-01</td>\n",
              "      <td>São Paulo</td>\n",
              "      <td>172.96</td>\n",
              "      <td>2</td>\n",
              "      <td>2008</td>\n",
              "      <td>Fevereiro</td>\n",
              "      <td>6.18</td>\n",
              "    </tr>\n",
              "    <tr>\n",
              "      <th>1107</th>\n",
              "      <td>2008-03-01</td>\n",
              "      <td>São Paulo</td>\n",
              "      <td>170.56</td>\n",
              "      <td>3</td>\n",
              "      <td>2008</td>\n",
              "      <td>Março</td>\n",
              "      <td>5.50</td>\n",
              "    </tr>\n",
              "    <tr>\n",
              "      <th>1108</th>\n",
              "      <td>2008-04-01</td>\n",
              "      <td>São Paulo</td>\n",
              "      <td>170.34</td>\n",
              "      <td>4</td>\n",
              "      <td>2008</td>\n",
              "      <td>Abril</td>\n",
              "      <td>5.68</td>\n",
              "    </tr>\n",
              "    <tr>\n",
              "      <th>1109</th>\n",
              "      <td>2008-05-01</td>\n",
              "      <td>São Paulo</td>\n",
              "      <td>172.46</td>\n",
              "      <td>5</td>\n",
              "      <td>2008</td>\n",
              "      <td>Maio</td>\n",
              "      <td>5.56</td>\n",
              "    </tr>\n",
              "    <tr>\n",
              "      <th>1110</th>\n",
              "      <td>2008-06-01</td>\n",
              "      <td>São Paulo</td>\n",
              "      <td>175.49</td>\n",
              "      <td>6</td>\n",
              "      <td>2008</td>\n",
              "      <td>Junho</td>\n",
              "      <td>5.85</td>\n",
              "    </tr>\n",
              "  </tbody>\n",
              "</table>\n",
              "</div>"
            ],
            "text/plain": [
              "     dia_mes_ano         uf  gastos  mes   ano mes_extenso  gasto_dia\n",
              "1106  2008-02-01  São Paulo  172.96    2  2008   Fevereiro       6.18\n",
              "1107  2008-03-01  São Paulo  170.56    3  2008       Março       5.50\n",
              "1108  2008-04-01  São Paulo  170.34    4  2008       Abril       5.68\n",
              "1109  2008-05-01  São Paulo  172.46    5  2008        Maio       5.56\n",
              "1110  2008-06-01  São Paulo  175.49    6  2008       Junho       5.85"
            ]
          },
          "metadata": {
            "tags": []
          },
          "execution_count": 15
        }
      ]
    },
    {
      "cell_type": "code",
      "metadata": {
        "colab": {
          "base_uri": "https://localhost:8080/",
          "height": 232
        },
        "id": "48rHxFrQ2Y8X",
        "outputId": "ae9022b4-8f2a-4adc-a4ed-3a46a4cc0e3d"
      },
      "source": [
        "gastos_por_ano_estado = estado_analisar.groupby(\"ano\").sum()\n",
        "gastos_por_ano_estado.head()"
      ],
      "execution_count": 18,
      "outputs": [
        {
          "output_type": "execute_result",
          "data": {
            "text/html": [
              "<div>\n",
              "<style scoped>\n",
              "    .dataframe tbody tr th:only-of-type {\n",
              "        vertical-align: middle;\n",
              "    }\n",
              "\n",
              "    .dataframe tbody tr th {\n",
              "        vertical-align: top;\n",
              "    }\n",
              "\n",
              "    .dataframe thead th {\n",
              "        text-align: right;\n",
              "    }\n",
              "</style>\n",
              "<table border=\"1\" class=\"dataframe\">\n",
              "  <thead>\n",
              "    <tr style=\"text-align: right;\">\n",
              "      <th></th>\n",
              "      <th>gastos</th>\n",
              "      <th>mes</th>\n",
              "      <th>gasto_dia</th>\n",
              "    </tr>\n",
              "    <tr>\n",
              "      <th>ano</th>\n",
              "      <th></th>\n",
              "      <th></th>\n",
              "      <th></th>\n",
              "    </tr>\n",
              "  </thead>\n",
              "  <tbody>\n",
              "    <tr>\n",
              "      <th>2008</th>\n",
              "      <td>1961.42</td>\n",
              "      <td>77</td>\n",
              "      <td>64.64</td>\n",
              "    </tr>\n",
              "    <tr>\n",
              "      <th>2009</th>\n",
              "      <td>2489.87</td>\n",
              "      <td>78</td>\n",
              "      <td>81.85</td>\n",
              "    </tr>\n",
              "    <tr>\n",
              "      <th>2010</th>\n",
              "      <td>2698.63</td>\n",
              "      <td>78</td>\n",
              "      <td>88.69</td>\n",
              "    </tr>\n",
              "    <tr>\n",
              "      <th>2011</th>\n",
              "      <td>2795.61</td>\n",
              "      <td>78</td>\n",
              "      <td>91.94</td>\n",
              "    </tr>\n",
              "    <tr>\n",
              "      <th>2012</th>\n",
              "      <td>2875.72</td>\n",
              "      <td>78</td>\n",
              "      <td>94.52</td>\n",
              "    </tr>\n",
              "  </tbody>\n",
              "</table>\n",
              "</div>"
            ],
            "text/plain": [
              "      gastos  mes  gasto_dia\n",
              "ano                         \n",
              "2008 1961.42   77      64.64\n",
              "2009 2489.87   78      81.85\n",
              "2010 2698.63   78      88.69\n",
              "2011 2795.61   78      91.94\n",
              "2012 2875.72   78      94.52"
            ]
          },
          "metadata": {
            "tags": []
          },
          "execution_count": 18
        }
      ]
    },
    {
      "cell_type": "markdown",
      "metadata": {
        "id": "wky_efyP7Dtp"
      },
      "source": [
        "#Desafio 01: Reordenar as cores pelo valor do eixo y."
      ]
    },
    {
      "cell_type": "code",
      "metadata": {
        "colab": {
          "base_uri": "https://localhost:8080/",
          "height": 513
        },
        "id": "f5TZYI_u2b2r",
        "outputId": "18e45fe2-f4be-4884-df91-7ff24bfc0ded"
      },
      "source": [
        "plt.figure(figsize=(16,8))\n",
        "ax = sns.barplot(data=gastos_por_ano_estado, x=gastos_por_ano_estado.index, y=\"gastos\", hue=\"gastos\", dodge = False, palette= sns.color_palette(\"rocket_r\",14))\n",
        "ax.legend('')"
      ],
      "execution_count": 61,
      "outputs": [
        {
          "output_type": "execute_result",
          "data": {
            "text/plain": [
              "<matplotlib.legend.Legend at 0x7efce9487650>"
            ]
          },
          "metadata": {
            "tags": []
          },
          "execution_count": 61
        },
        {
          "output_type": "display_data",
          "data": {
            "image/png": "[encoded data removed]",
            "text/plain": [
              "<Figure size 1152x576 with 1 Axes>"
            ]
          },
          "metadata": {
            "tags": [],
            "needs_background": "light"
          }
        }
      ]
    },
    {
      "cell_type": "markdown",
      "metadata": {
        "id": "5fsjsFs__xTH"
      },
      "source": [
        "#Desafio 02 3 03"
      ]
    },
    {
      "cell_type": "markdown",
      "metadata": {
        "id": "Gk5ock9S7SsP"
      },
      "source": [
        "#Desafio 02: Explorar a documentação do Seaborn.\n",
        "\n",
        "#Desafio 03: Pensar e elaborar novos gráficos depois de estudar o Seaborn, compartilhar com uma breve descrição no Discord, para que outros colegas aprendam sobre o gráfico usado."
      ]
    },
    {
      "cell_type": "code",
      "metadata": {
        "colab": {
          "base_uri": "https://localhost:8080/",
          "height": 400
        },
        "id": "rFDW2Ftg7WJA",
        "outputId": "63b4c68c-9a43-4958-f190-0eb794f53b27"
      },
      "source": [
        "#replot\n",
        "plt.figure(figsize=(16,8))\n",
        "ax = sns.relplot(data=gastos_por_ano_estado, x=gastos_por_ano_estado.index, y=\"gastos\")\n"
      ],
      "execution_count": 73,
      "outputs": [
        {
          "output_type": "display_data",
          "data": {
            "text/plain": [
              "<Figure size 1152x576 with 0 Axes>"
            ]
          },
          "metadata": {
            "tags": []
          }
        },
        {
          "output_type": "display_data",
          "data": {
            "image/png": "[encoded data removed]",
            "text/plain": [
              "<Figure size 360x360 with 1 Axes>"
            ]
          },
          "metadata": {
            "tags": [],
            "needs_background": "light"
          }
        }
      ]
    },
    {
      "cell_type": "code",
      "metadata": {
        "colab": {
          "base_uri": "https://localhost:8080/",
          "height": 385
        },
        "id": "KC62WjsA77WC",
        "outputId": "e270d0a6-9c2e-4f19-928d-e512449e3dca"
      },
      "source": [
        "#displot kde\n",
        "plt.figure(figsize=(16,8))\n",
        "ax = sns.displot(data=gastos_por_ano_estado, x=gastos_por_ano_estado.index, y=\"gastos\", kind=\"kde\")"
      ],
      "execution_count": 87,
      "outputs": [
        {
          "output_type": "display_data",
          "data": {
            "text/plain": [
              "<Figure size 1152x576 with 0 Axes>"
            ]
          },
          "metadata": {
            "tags": []
          }
        },
        {
          "output_type": "display_data",
          "data": {
            "image/png": "[encoded data removed]",
            "text/plain": [
              "<Figure size 360x360 with 1 Axes>"
            ]
          },
          "metadata": {
            "tags": [],
            "needs_background": "light"
          }
        }
      ]
    },
    {
      "cell_type": "code",
      "metadata": {
        "colab": {
          "base_uri": "https://localhost:8080/",
          "height": 385
        },
        "id": "jxxCeV3s9Eix",
        "outputId": "1cc439f6-b23a-4349-b302-1916c31fe1cd"
      },
      "source": [
        "#displot hist\n",
        "plt.figure(figsize=(16,8))\n",
        "ax = sns.displot(data=gastos_por_ano_estado, x=gastos_por_ano_estado.index, y=\"gastos\", kind=\"hist\")"
      ],
      "execution_count": 88,
      "outputs": [
        {
          "output_type": "display_data",
          "data": {
            "text/plain": [
              "<Figure size 1152x576 with 0 Axes>"
            ]
          },
          "metadata": {
            "tags": []
          }
        },
        {
          "output_type": "display_data",
          "data": {
            "image/png": "[encoded data removed]",
            "text/plain": [
              "<Figure size 360x360 with 1 Axes>"
            ]
          },
          "metadata": {
            "tags": [],
            "needs_background": "light"
          }
        }
      ]
    },
    {
      "cell_type": "code",
      "metadata": {
        "colab": {
          "base_uri": "https://localhost:8080/",
          "height": 385
        },
        "id": "VdGWkCMr9IE_",
        "outputId": "65cd9637-183b-4581-ff32-533140146e89"
      },
      "source": [
        "#displot ecdf\n",
        "plt.figure(figsize=(16,8))\n",
        "ax = sns.displot(data=gastos_por_ano_estado, x=gastos_por_ano_estado.index, kind=\"ecdf\")"
      ],
      "execution_count": 92,
      "outputs": [
        {
          "output_type": "display_data",
          "data": {
            "text/plain": [
              "<Figure size 1152x576 with 0 Axes>"
            ]
          },
          "metadata": {
            "tags": []
          }
        },
        {
          "output_type": "display_data",
          "data": {
            "image/png": "[encoded data removed]",
            "text/plain": [
              "<Figure size 360x360 with 1 Axes>"
            ]
          },
          "metadata": {
            "tags": [],
            "needs_background": "light"
          }
        }
      ]
    },
    {
      "cell_type": "code",
      "metadata": {
        "colab": {
          "base_uri": "https://localhost:8080/",
          "height": 497
        },
        "id": "6-qNx6Kd9rCI",
        "outputId": "20d5d56f-a5a6-4110-a09f-723671ab1b12"
      },
      "source": [
        "#displot ecdf\n",
        "plt.figure(figsize=(16,8))\n",
        "ax = sns.stripplot(data=estado_analisar, x=\"uf\", y=\"gastos\")"
      ],
      "execution_count": 103,
      "outputs": [
        {
          "output_type": "display_data",
          "data": {
            "image/png": "[encoded data removed]",
            "text/plain": [
              "<Figure size 1152x576 with 1 Axes>"
            ]
          },
          "metadata": {
            "tags": [],
            "needs_background": "light"
          }
        }
      ]
    },
    {
      "cell_type": "code",
      "metadata": {
        "colab": {
          "base_uri": "https://localhost:8080/",
          "height": 497
        },
        "id": "Mg2zSMwh-znv",
        "outputId": "c382a785-0656-4193-ba9c-c91d6b80ccae"
      },
      "source": [
        "#displot ecdf\n",
        "plt.figure(figsize=(16,8))\n",
        "ax = sns.countplot(data=estado_analisar, y=\"uf\", hue=\"ano\", palette= sns.color_palette(\"rainbow\",14))"
      ],
      "execution_count": 112,
      "outputs": [
        {
          "output_type": "display_data",
          "data": {
            "image/png": "[encoded data removed]",
            "text/plain": [
              "<Figure size 1152x576 with 1 Axes>"
            ]
          },
          "metadata": {
            "tags": [],
            "needs_background": "light"
          }
        }
      ]
    },
    {
      "cell_type": "code",
      "metadata": {
        "colab": {
          "base_uri": "https://localhost:8080/",
          "height": 742
        },
        "id": "eoB1ckVT_-0O",
        "outputId": "ef507fb9-f0a5-4155-ba32-4c85494e7b46"
      },
      "source": [
        "sns.pairplot(estado_analisar)"
      ],
      "execution_count": 124,
      "outputs": [
        {
          "output_type": "execute_result",
          "data": {
            "text/plain": [
              "<seaborn.axisgrid.PairGrid at 0x7efcd9874810>"
            ]
          },
          "metadata": {
            "tags": []
          },
          "execution_count": 124
        },
        {
          "output_type": "display_data",
          "data": {
            "image/png": "[encoded data removed]",
            "text/plain": [
              "<Figure size 720x720 with 20 Axes>"
            ]
          },
          "metadata": {
            "tags": [],
            "needs_background": "light"
          }
        }
      ]
    }
  ]
}