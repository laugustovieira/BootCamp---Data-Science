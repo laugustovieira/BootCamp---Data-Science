{
  "nbformat": 4,
  "nbformat_minor": 0,
  "metadata": {
    "colab": {
      "name": "Desafios_Modulo2_Aula2.ipynb",
      "provenance": [],
      "collapsed_sections": [],
      "mount_file_id": "1aCRtepAHKhFPd3LYw63kCWvpKQ52wdHt",
      "authorship_tag": "ABX9TyN5VYlrzokOKM2NXUE0q5fP",
      "include_colab_link": true
    },
    "kernelspec": {
      "name": "python3",
      "display_name": "Python 3"
    },
    "language_info": {
      "name": "python"
    }
  },
  "cells": [
    {
      "cell_type": "markdown",
      "metadata": {
        "id": "view-in-github",
        "colab_type": "text"
      },
      "source": [
        "<a href=\"https://colab.research.google.com/github/laugustovieira/BootCamp-Data-Science/blob/main/Desafios_Modulo2_Aula2.ipynb\" target=\"_parent\"><img src=\"https://colab.research.google.com/assets/colab-badge.svg\" alt=\"Open In Colab\"/></a>"
      ]
    },
    {
      "cell_type": "markdown",
      "metadata": {
        "id": "ngVgUhMc7OCg"
      },
      "source": [
        "#Modulo 02 Aula 02"
      ]
    },
    {
      "cell_type": "markdown",
      "metadata": {
        "id": "xJfXrHnt7St-"
      },
      "source": [
        "#Importar Bibliotecas"
      ]
    },
    {
      "cell_type": "code",
      "metadata": {
        "id": "-BOfZO5e7NF_"
      },
      "source": [
        "import seaborn as sns\n",
        "import pandas as pd\n",
        "import matplotlib.pyplot as plt\n",
        "import matplotlib.ticker as ticker"
      ],
      "execution_count": 1169,
      "outputs": []
    },
    {
      "cell_type": "markdown",
      "metadata": {
        "id": "BBo65XaA7_Jf"
      },
      "source": [
        "#Carregar informações"
      ]
    },
    {
      "cell_type": "code",
      "metadata": {
        "id": "XQVGLCH38D4v"
      },
      "source": [
        "dados = pd.read_csv(\"/content/drive/MyDrive/Dados_BootCamp/A005117189_28_143_208_2021_ATENDIMENTO.csv\", encoding=\"ISO-8859-1\",\n",
        "            sep=\";\", skiprows = 3, skipfooter = 12, engine = \"python\", thousands = \".\", decimal = \",\")"
      ],
      "execution_count": 1170,
      "outputs": []
    },
    {
      "cell_type": "markdown",
      "metadata": {
        "id": "XqeCOqSJ7kxv"
      },
      "source": [
        "#Tratar Dados"
      ]
    },
    {
      "cell_type": "code",
      "metadata": {
        "id": "yZTzaBDu7n9_"
      },
      "source": [
        "pd.options.display.float_format = \"{:.2f}\".format\n"
      ],
      "execution_count": 1171,
      "outputs": []
    },
    {
      "cell_type": "code",
      "metadata": {
        "id": "sKKlPA93jQc3"
      },
      "source": [
        ""
      ],
      "execution_count": 1171,
      "outputs": []
    },
    {
      "cell_type": "code",
      "metadata": {
        "id": "_l3epE3EaM3C"
      },
      "source": [
        "def retorna_tabela(indice_mes_selecionado):\n",
        "  colunas_usaveis_def3 = dados.mean().index.tolist()\n",
        "  colunas_usaveis_def3.insert(0,\"Unidade da Federação\")\n",
        "\n",
        "  usaveis_def3 = dados[colunas_usaveis_def3]\n",
        "  usaveis_def3= usaveis_def3.drop(\"Total\", axis=1)\n",
        "  usaveis_def3 = usaveis_def3.set_index(\"Unidade da Federação\")\n",
        "  usaveis_ordenado = usaveis_def3.sort_values(by=\"Unidade da Federação\", ascending=False)\n",
        "\n",
        "  usaveis_ordenado = usaveis_ordenado[usaveis_ordenado.columns[indice_mes_selecionado:]]\n",
        "\n",
        "  #usaveis_ordenado = usaveis_ordenado.sort_values(by=\"\"coluna\"\", ascending =False)\n",
        "  usaveis_ordenado.index = usaveis_ordenado.index.str[3:]\n",
        "  return usaveis_ordenado"
      ],
      "execution_count": 1172,
      "outputs": []
    },
    {
      "cell_type": "code",
      "metadata": {
        "colab": {
          "base_uri": "https://localhost:8080/",
          "height": 235
        },
        "id": "qNLOfaX3qLVQ",
        "outputId": "3eea3d9e-ea35-484b-a14a-7b27a5574f59"
      },
      "source": [
        "usaveis_ordenado = retorna_tabela(-1)\n",
        "usaveis_ordenado.head()"
      ],
      "execution_count": 1173,
      "outputs": [
        {
          "output_type": "execute_result",
          "data": {
            "text/html": [
              "<div>\n",
              "<style scoped>\n",
              "    .dataframe tbody tr th:only-of-type {\n",
              "        vertical-align: middle;\n",
              "    }\n",
              "\n",
              "    .dataframe tbody tr th {\n",
              "        vertical-align: top;\n",
              "    }\n",
              "\n",
              "    .dataframe thead th {\n",
              "        text-align: right;\n",
              "    }\n",
              "</style>\n",
              "<table border=\"1\" class=\"dataframe\">\n",
              "  <thead>\n",
              "    <tr style=\"text-align: right;\">\n",
              "      <th></th>\n",
              "      <th>2021/Mar</th>\n",
              "    </tr>\n",
              "    <tr>\n",
              "      <th>Unidade da Federação</th>\n",
              "      <th></th>\n",
              "    </tr>\n",
              "  </thead>\n",
              "  <tbody>\n",
              "    <tr>\n",
              "      <th>Distrito Federal</th>\n",
              "      <td>14731938.43</td>\n",
              "    </tr>\n",
              "    <tr>\n",
              "      <th>Goiás</th>\n",
              "      <td>24867001.02</td>\n",
              "    </tr>\n",
              "    <tr>\n",
              "      <th>Mato Grosso</th>\n",
              "      <td>8835890.09</td>\n",
              "    </tr>\n",
              "    <tr>\n",
              "      <th>Mato Grosso do Sul</th>\n",
              "      <td>4035989.77</td>\n",
              "    </tr>\n",
              "    <tr>\n",
              "      <th>Rio Grande do Sul</th>\n",
              "      <td>37798832.80</td>\n",
              "    </tr>\n",
              "  </tbody>\n",
              "</table>\n",
              "</div>"
            ],
            "text/plain": [
              "                        2021/Mar\n",
              "Unidade da Federação            \n",
              "Distrito Federal     14731938.43\n",
              "Goiás                24867001.02\n",
              "Mato Grosso           8835890.09\n",
              "Mato Grosso do Sul    4035989.77\n",
              "Rio Grande do Sul    37798832.80"
            ]
          },
          "metadata": {
            "tags": []
          },
          "execution_count": 1173
        }
      ]
    },
    {
      "cell_type": "code",
      "metadata": {
        "colab": {
          "base_uri": "https://localhost:8080/",
          "height": 235
        },
        "id": "8MLZ0rosnOcX",
        "outputId": "53162ffb-31c0-40de-a03c-90520548102a"
      },
      "source": [
        "usaveis_ordenado = retorna_tabela(-1)\n",
        "usaveis_ordenado.head()"
      ],
      "execution_count": 1174,
      "outputs": [
        {
          "output_type": "execute_result",
          "data": {
            "text/html": [
              "<div>\n",
              "<style scoped>\n",
              "    .dataframe tbody tr th:only-of-type {\n",
              "        vertical-align: middle;\n",
              "    }\n",
              "\n",
              "    .dataframe tbody tr th {\n",
              "        vertical-align: top;\n",
              "    }\n",
              "\n",
              "    .dataframe thead th {\n",
              "        text-align: right;\n",
              "    }\n",
              "</style>\n",
              "<table border=\"1\" class=\"dataframe\">\n",
              "  <thead>\n",
              "    <tr style=\"text-align: right;\">\n",
              "      <th></th>\n",
              "      <th>2021/Mar</th>\n",
              "    </tr>\n",
              "    <tr>\n",
              "      <th>Unidade da Federação</th>\n",
              "      <th></th>\n",
              "    </tr>\n",
              "  </thead>\n",
              "  <tbody>\n",
              "    <tr>\n",
              "      <th>Distrito Federal</th>\n",
              "      <td>14731938.43</td>\n",
              "    </tr>\n",
              "    <tr>\n",
              "      <th>Goiás</th>\n",
              "      <td>24867001.02</td>\n",
              "    </tr>\n",
              "    <tr>\n",
              "      <th>Mato Grosso</th>\n",
              "      <td>8835890.09</td>\n",
              "    </tr>\n",
              "    <tr>\n",
              "      <th>Mato Grosso do Sul</th>\n",
              "      <td>4035989.77</td>\n",
              "    </tr>\n",
              "    <tr>\n",
              "      <th>Rio Grande do Sul</th>\n",
              "      <td>37798832.80</td>\n",
              "    </tr>\n",
              "  </tbody>\n",
              "</table>\n",
              "</div>"
            ],
            "text/plain": [
              "                        2021/Mar\n",
              "Unidade da Federação            \n",
              "Distrito Federal     14731938.43\n",
              "Goiás                24867001.02\n",
              "Mato Grosso           8835890.09\n",
              "Mato Grosso do Sul    4035989.77\n",
              "Rio Grande do Sul    37798832.80"
            ]
          },
          "metadata": {
            "tags": []
          },
          "execution_count": 1174
        }
      ]
    },
    {
      "cell_type": "code",
      "metadata": {
        "colab": {
          "base_uri": "https://localhost:8080/",
          "height": 204
        },
        "id": "whfbdzsZKVHR",
        "outputId": "2ace1f5f-8d6e-416f-e844-4f62ca1ddfb0"
      },
      "source": [
        "#Fazendo a leitura da pagina html onde tem o <td>População (a tabela é identificada e colocada em uma lista.)\n",
        "html = pd.read_html(\"https://pt.wikipedia.org/wiki/Lista_de_unidades_federativas_do_Brasil_por_popula%C3%A7%C3%A3o\", match=\"População\")\n",
        "tabela = html[0]\n",
        "tabela.head()"
      ],
      "execution_count": 1175,
      "outputs": [
        {
          "output_type": "execute_result",
          "data": {
            "text/html": [
              "<div>\n",
              "<style scoped>\n",
              "    .dataframe tbody tr th:only-of-type {\n",
              "        vertical-align: middle;\n",
              "    }\n",
              "\n",
              "    .dataframe tbody tr th {\n",
              "        vertical-align: top;\n",
              "    }\n",
              "\n",
              "    .dataframe thead th {\n",
              "        text-align: right;\n",
              "    }\n",
              "</style>\n",
              "<table border=\"1\" class=\"dataframe\">\n",
              "  <thead>\n",
              "    <tr style=\"text-align: right;\">\n",
              "      <th></th>\n",
              "      <th>Posição</th>\n",
              "      <th>Unidade federativa</th>\n",
              "      <th>População</th>\n",
              "      <th>% da pop. total</th>\n",
              "      <th>País comparável (habitantes)</th>\n",
              "    </tr>\n",
              "  </thead>\n",
              "  <tbody>\n",
              "    <tr>\n",
              "      <th>0</th>\n",
              "      <td>1</td>\n",
              "      <td>São Paulo</td>\n",
              "      <td>46 289 333</td>\n",
              "      <td>21,9%</td>\n",
              "      <td>Espanha (46 439 864)</td>\n",
              "    </tr>\n",
              "    <tr>\n",
              "      <th>1</th>\n",
              "      <td>2</td>\n",
              "      <td>Minas Gerais</td>\n",
              "      <td>21 292 666</td>\n",
              "      <td>10,1%</td>\n",
              "      <td>Sri Lanka (20 675 000)</td>\n",
              "    </tr>\n",
              "    <tr>\n",
              "      <th>2</th>\n",
              "      <td>3</td>\n",
              "      <td>Rio de Janeiro</td>\n",
              "      <td>17 366 189</td>\n",
              "      <td>8,2%</td>\n",
              "      <td>Países Baixos (16 922 900)</td>\n",
              "    </tr>\n",
              "    <tr>\n",
              "      <th>3</th>\n",
              "      <td>4</td>\n",
              "      <td>Bahia</td>\n",
              "      <td>14 930 634</td>\n",
              "      <td>7,1%</td>\n",
              "      <td>Chade (14 037 000)</td>\n",
              "    </tr>\n",
              "    <tr>\n",
              "      <th>4</th>\n",
              "      <td>5</td>\n",
              "      <td>Paraná</td>\n",
              "      <td>11 516 840</td>\n",
              "      <td>5,4%</td>\n",
              "      <td>Bolívia (11 410 651)</td>\n",
              "    </tr>\n",
              "  </tbody>\n",
              "</table>\n",
              "</div>"
            ],
            "text/plain": [
              "   Posição Unidade federativa  ... % da pop. total País comparável (habitantes)\n",
              "0        1          São Paulo  ...           21,9%         Espanha (46 439 864)\n",
              "1        2       Minas Gerais  ...           10,1%       Sri Lanka (20 675 000)\n",
              "2        3     Rio de Janeiro  ...            8,2%   Países Baixos (16 922 900)\n",
              "3        4              Bahia  ...            7,1%           Chade (14 037 000)\n",
              "4        5             Paraná  ...            5,4%         Bolívia (11 410 651)\n",
              "\n",
              "[5 rows x 5 columns]"
            ]
          },
          "metadata": {
            "tags": []
          },
          "execution_count": 1175
        }
      ]
    },
    {
      "cell_type": "code",
      "metadata": {
        "colab": {
          "base_uri": "https://localhost:8080/",
          "height": 204
        },
        "id": "-Ji0y9goQN38",
        "outputId": "5f40a2a3-2191-45db-fd4a-d85f782ec5f4"
      },
      "source": [
        "#renomeando os nomes das colunas\n",
        "tabela = tabela.rename(columns={\"População\":\"população\",\"Unidade federativa\":\"uf\",\n",
        "                               \"% da pop. total\":\"percentual\"})\n",
        "tabela.head()"
      ],
      "execution_count": 1176,
      "outputs": [
        {
          "output_type": "execute_result",
          "data": {
            "text/html": [
              "<div>\n",
              "<style scoped>\n",
              "    .dataframe tbody tr th:only-of-type {\n",
              "        vertical-align: middle;\n",
              "    }\n",
              "\n",
              "    .dataframe tbody tr th {\n",
              "        vertical-align: top;\n",
              "    }\n",
              "\n",
              "    .dataframe thead th {\n",
              "        text-align: right;\n",
              "    }\n",
              "</style>\n",
              "<table border=\"1\" class=\"dataframe\">\n",
              "  <thead>\n",
              "    <tr style=\"text-align: right;\">\n",
              "      <th></th>\n",
              "      <th>Posição</th>\n",
              "      <th>uf</th>\n",
              "      <th>população</th>\n",
              "      <th>percentual</th>\n",
              "      <th>País comparável (habitantes)</th>\n",
              "    </tr>\n",
              "  </thead>\n",
              "  <tbody>\n",
              "    <tr>\n",
              "      <th>0</th>\n",
              "      <td>1</td>\n",
              "      <td>São Paulo</td>\n",
              "      <td>46 289 333</td>\n",
              "      <td>21,9%</td>\n",
              "      <td>Espanha (46 439 864)</td>\n",
              "    </tr>\n",
              "    <tr>\n",
              "      <th>1</th>\n",
              "      <td>2</td>\n",
              "      <td>Minas Gerais</td>\n",
              "      <td>21 292 666</td>\n",
              "      <td>10,1%</td>\n",
              "      <td>Sri Lanka (20 675 000)</td>\n",
              "    </tr>\n",
              "    <tr>\n",
              "      <th>2</th>\n",
              "      <td>3</td>\n",
              "      <td>Rio de Janeiro</td>\n",
              "      <td>17 366 189</td>\n",
              "      <td>8,2%</td>\n",
              "      <td>Países Baixos (16 922 900)</td>\n",
              "    </tr>\n",
              "    <tr>\n",
              "      <th>3</th>\n",
              "      <td>4</td>\n",
              "      <td>Bahia</td>\n",
              "      <td>14 930 634</td>\n",
              "      <td>7,1%</td>\n",
              "      <td>Chade (14 037 000)</td>\n",
              "    </tr>\n",
              "    <tr>\n",
              "      <th>4</th>\n",
              "      <td>5</td>\n",
              "      <td>Paraná</td>\n",
              "      <td>11 516 840</td>\n",
              "      <td>5,4%</td>\n",
              "      <td>Bolívia (11 410 651)</td>\n",
              "    </tr>\n",
              "  </tbody>\n",
              "</table>\n",
              "</div>"
            ],
            "text/plain": [
              "   Posição              uf   população percentual País comparável (habitantes)\n",
              "0        1       São Paulo  46 289 333      21,9%         Espanha (46 439 864)\n",
              "1        2    Minas Gerais  21 292 666      10,1%       Sri Lanka (20 675 000)\n",
              "2        3  Rio de Janeiro  17 366 189       8,2%   Países Baixos (16 922 900)\n",
              "3        4           Bahia  14 930 634       7,1%           Chade (14 037 000)\n",
              "4        5          Paraná  11 516 840       5,4%         Bolívia (11 410 651)"
            ]
          },
          "metadata": {
            "tags": []
          },
          "execution_count": 1176
        }
      ]
    },
    {
      "cell_type": "code",
      "metadata": {
        "colab": {
          "base_uri": "https://localhost:8080/",
          "height": 204
        },
        "id": "uk0KF6VcRRVT",
        "outputId": "cf82ce1a-6e12-44e8-f14b-536a22060035"
      },
      "source": [
        "#retirando os espaços entre os números\n",
        "tabela[\"população\"] = tabela[\"população\"].str.replace(\" \", \"\")\n",
        "tabela[\"percentual\"] = tabela[\"percentual\"].str.replace(\"%\",\"\")\n",
        "tabela[\"percentual\"] = tabela[\"percentual\"].str.replace(\",\",\".\")\n",
        "tabela.head()"
      ],
      "execution_count": 1177,
      "outputs": [
        {
          "output_type": "execute_result",
          "data": {
            "text/html": [
              "<div>\n",
              "<style scoped>\n",
              "    .dataframe tbody tr th:only-of-type {\n",
              "        vertical-align: middle;\n",
              "    }\n",
              "\n",
              "    .dataframe tbody tr th {\n",
              "        vertical-align: top;\n",
              "    }\n",
              "\n",
              "    .dataframe thead th {\n",
              "        text-align: right;\n",
              "    }\n",
              "</style>\n",
              "<table border=\"1\" class=\"dataframe\">\n",
              "  <thead>\n",
              "    <tr style=\"text-align: right;\">\n",
              "      <th></th>\n",
              "      <th>Posição</th>\n",
              "      <th>uf</th>\n",
              "      <th>população</th>\n",
              "      <th>percentual</th>\n",
              "      <th>País comparável (habitantes)</th>\n",
              "    </tr>\n",
              "  </thead>\n",
              "  <tbody>\n",
              "    <tr>\n",
              "      <th>0</th>\n",
              "      <td>1</td>\n",
              "      <td>São Paulo</td>\n",
              "      <td>46289333</td>\n",
              "      <td>21.9</td>\n",
              "      <td>Espanha (46 439 864)</td>\n",
              "    </tr>\n",
              "    <tr>\n",
              "      <th>1</th>\n",
              "      <td>2</td>\n",
              "      <td>Minas Gerais</td>\n",
              "      <td>21292666</td>\n",
              "      <td>10.1</td>\n",
              "      <td>Sri Lanka (20 675 000)</td>\n",
              "    </tr>\n",
              "    <tr>\n",
              "      <th>2</th>\n",
              "      <td>3</td>\n",
              "      <td>Rio de Janeiro</td>\n",
              "      <td>17366189</td>\n",
              "      <td>8.2</td>\n",
              "      <td>Países Baixos (16 922 900)</td>\n",
              "    </tr>\n",
              "    <tr>\n",
              "      <th>3</th>\n",
              "      <td>4</td>\n",
              "      <td>Bahia</td>\n",
              "      <td>14930634</td>\n",
              "      <td>7.1</td>\n",
              "      <td>Chade (14 037 000)</td>\n",
              "    </tr>\n",
              "    <tr>\n",
              "      <th>4</th>\n",
              "      <td>5</td>\n",
              "      <td>Paraná</td>\n",
              "      <td>11516840</td>\n",
              "      <td>5.4</td>\n",
              "      <td>Bolívia (11 410 651)</td>\n",
              "    </tr>\n",
              "  </tbody>\n",
              "</table>\n",
              "</div>"
            ],
            "text/plain": [
              "   Posição              uf população percentual País comparável (habitantes)\n",
              "0        1       São Paulo  46289333       21.9         Espanha (46 439 864)\n",
              "1        2    Minas Gerais  21292666       10.1       Sri Lanka (20 675 000)\n",
              "2        3  Rio de Janeiro  17366189        8.2   Países Baixos (16 922 900)\n",
              "3        4           Bahia  14930634        7.1           Chade (14 037 000)\n",
              "4        5          Paraná  11516840        5.4         Bolívia (11 410 651)"
            ]
          },
          "metadata": {
            "tags": []
          },
          "execution_count": 1177
        }
      ]
    },
    {
      "cell_type": "code",
      "metadata": {
        "id": "L8fv6pszRvSS"
      },
      "source": [
        "#alterando os tipos\n",
        "tabela[\"uf\"] = tabela[\"uf\"].astype(str)\n",
        "tabela[\"população\"] = tabela[\"população\"].astype(float)\n",
        "tabela[\"percentual\"] = tabela[\"percentual\"].astype(float)"
      ],
      "execution_count": 1178,
      "outputs": []
    },
    {
      "cell_type": "code",
      "metadata": {
        "colab": {
          "base_uri": "https://localhost:8080/",
          "height": 204
        },
        "id": "nfJbvlZDT_NT",
        "outputId": "46b03c48-7b73-46d9-dcbb-1cd745cb2242"
      },
      "source": [
        "#selecionando somente as colunas que interessam\n",
        "tabela = tabela[[\"uf\", \"população\"]]\n",
        "tabela.head()"
      ],
      "execution_count": 1179,
      "outputs": [
        {
          "output_type": "execute_result",
          "data": {
            "text/html": [
              "<div>\n",
              "<style scoped>\n",
              "    .dataframe tbody tr th:only-of-type {\n",
              "        vertical-align: middle;\n",
              "    }\n",
              "\n",
              "    .dataframe tbody tr th {\n",
              "        vertical-align: top;\n",
              "    }\n",
              "\n",
              "    .dataframe thead th {\n",
              "        text-align: right;\n",
              "    }\n",
              "</style>\n",
              "<table border=\"1\" class=\"dataframe\">\n",
              "  <thead>\n",
              "    <tr style=\"text-align: right;\">\n",
              "      <th></th>\n",
              "      <th>uf</th>\n",
              "      <th>população</th>\n",
              "    </tr>\n",
              "  </thead>\n",
              "  <tbody>\n",
              "    <tr>\n",
              "      <th>0</th>\n",
              "      <td>São Paulo</td>\n",
              "      <td>46289333.00</td>\n",
              "    </tr>\n",
              "    <tr>\n",
              "      <th>1</th>\n",
              "      <td>Minas Gerais</td>\n",
              "      <td>21292666.00</td>\n",
              "    </tr>\n",
              "    <tr>\n",
              "      <th>2</th>\n",
              "      <td>Rio de Janeiro</td>\n",
              "      <td>17366189.00</td>\n",
              "    </tr>\n",
              "    <tr>\n",
              "      <th>3</th>\n",
              "      <td>Bahia</td>\n",
              "      <td>14930634.00</td>\n",
              "    </tr>\n",
              "    <tr>\n",
              "      <th>4</th>\n",
              "      <td>Paraná</td>\n",
              "      <td>11516840.00</td>\n",
              "    </tr>\n",
              "  </tbody>\n",
              "</table>\n",
              "</div>"
            ],
            "text/plain": [
              "               uf   população\n",
              "0       São Paulo 46289333.00\n",
              "1    Minas Gerais 21292666.00\n",
              "2  Rio de Janeiro 17366189.00\n",
              "3           Bahia 14930634.00\n",
              "4          Paraná 11516840.00"
            ]
          },
          "metadata": {
            "tags": []
          },
          "execution_count": 1179
        }
      ]
    },
    {
      "cell_type": "code",
      "metadata": {
        "colab": {
          "base_uri": "https://localhost:8080/",
          "height": 917
        },
        "id": "O5nYhR87VMc7",
        "outputId": "3c7471be-9fe0-4f1b-99cb-232f5ff76e31"
      },
      "source": [
        "#setar o índice da tabela\n",
        "tabela = tabela.set_index(\"uf\")\n",
        "tabela"
      ],
      "execution_count": 1180,
      "outputs": [
        {
          "output_type": "execute_result",
          "data": {
            "text/html": [
              "<div>\n",
              "<style scoped>\n",
              "    .dataframe tbody tr th:only-of-type {\n",
              "        vertical-align: middle;\n",
              "    }\n",
              "\n",
              "    .dataframe tbody tr th {\n",
              "        vertical-align: top;\n",
              "    }\n",
              "\n",
              "    .dataframe thead th {\n",
              "        text-align: right;\n",
              "    }\n",
              "</style>\n",
              "<table border=\"1\" class=\"dataframe\">\n",
              "  <thead>\n",
              "    <tr style=\"text-align: right;\">\n",
              "      <th></th>\n",
              "      <th>população</th>\n",
              "    </tr>\n",
              "    <tr>\n",
              "      <th>uf</th>\n",
              "      <th></th>\n",
              "    </tr>\n",
              "  </thead>\n",
              "  <tbody>\n",
              "    <tr>\n",
              "      <th>São Paulo</th>\n",
              "      <td>46289333.00</td>\n",
              "    </tr>\n",
              "    <tr>\n",
              "      <th>Minas Gerais</th>\n",
              "      <td>21292666.00</td>\n",
              "    </tr>\n",
              "    <tr>\n",
              "      <th>Rio de Janeiro</th>\n",
              "      <td>17366189.00</td>\n",
              "    </tr>\n",
              "    <tr>\n",
              "      <th>Bahia</th>\n",
              "      <td>14930634.00</td>\n",
              "    </tr>\n",
              "    <tr>\n",
              "      <th>Paraná</th>\n",
              "      <td>11516840.00</td>\n",
              "    </tr>\n",
              "    <tr>\n",
              "      <th>Rio Grande do Sul</th>\n",
              "      <td>11422973.00</td>\n",
              "    </tr>\n",
              "    <tr>\n",
              "      <th>Pernambuco</th>\n",
              "      <td>9616621.00</td>\n",
              "    </tr>\n",
              "    <tr>\n",
              "      <th>Ceará</th>\n",
              "      <td>9187103.00</td>\n",
              "    </tr>\n",
              "    <tr>\n",
              "      <th>Pará</th>\n",
              "      <td>8690745.00</td>\n",
              "    </tr>\n",
              "    <tr>\n",
              "      <th>Santa Catarina</th>\n",
              "      <td>7252502.00</td>\n",
              "    </tr>\n",
              "    <tr>\n",
              "      <th>Maranhão</th>\n",
              "      <td>7114598.00</td>\n",
              "    </tr>\n",
              "    <tr>\n",
              "      <th>Goiás</th>\n",
              "      <td>7113540.00</td>\n",
              "    </tr>\n",
              "    <tr>\n",
              "      <th>Amazonas</th>\n",
              "      <td>4207714.00</td>\n",
              "    </tr>\n",
              "    <tr>\n",
              "      <th>Espírito Santo</th>\n",
              "      <td>4064052.00</td>\n",
              "    </tr>\n",
              "    <tr>\n",
              "      <th>Paraíba</th>\n",
              "      <td>4039277.00</td>\n",
              "    </tr>\n",
              "    <tr>\n",
              "      <th>Rio Grande do Norte</th>\n",
              "      <td>3534165.00</td>\n",
              "    </tr>\n",
              "    <tr>\n",
              "      <th>Mato Grosso</th>\n",
              "      <td>3526220.00</td>\n",
              "    </tr>\n",
              "    <tr>\n",
              "      <th>Alagoas</th>\n",
              "      <td>3351543.00</td>\n",
              "    </tr>\n",
              "    <tr>\n",
              "      <th>Piauí</th>\n",
              "      <td>3281480.00</td>\n",
              "    </tr>\n",
              "    <tr>\n",
              "      <th>Distrito Federal</th>\n",
              "      <td>3055149.00</td>\n",
              "    </tr>\n",
              "    <tr>\n",
              "      <th>Mato Grosso do Sul</th>\n",
              "      <td>2809394.00</td>\n",
              "    </tr>\n",
              "    <tr>\n",
              "      <th>Sergipe</th>\n",
              "      <td>2318822.00</td>\n",
              "    </tr>\n",
              "    <tr>\n",
              "      <th>Rondônia</th>\n",
              "      <td>1796460.00</td>\n",
              "    </tr>\n",
              "    <tr>\n",
              "      <th>Tocantins</th>\n",
              "      <td>1590248.00</td>\n",
              "    </tr>\n",
              "    <tr>\n",
              "      <th>Acre</th>\n",
              "      <td>894470.00</td>\n",
              "    </tr>\n",
              "    <tr>\n",
              "      <th>Amapá</th>\n",
              "      <td>861773.00</td>\n",
              "    </tr>\n",
              "    <tr>\n",
              "      <th>Roraima</th>\n",
              "      <td>631181.00</td>\n",
              "    </tr>\n",
              "  </tbody>\n",
              "</table>\n",
              "</div>"
            ],
            "text/plain": [
              "                      população\n",
              "uf                             \n",
              "São Paulo           46289333.00\n",
              "Minas Gerais        21292666.00\n",
              "Rio de Janeiro      17366189.00\n",
              "Bahia               14930634.00\n",
              "Paraná              11516840.00\n",
              "Rio Grande do Sul   11422973.00\n",
              "Pernambuco           9616621.00\n",
              "Ceará                9187103.00\n",
              "Pará                 8690745.00\n",
              "Santa Catarina       7252502.00\n",
              "Maranhão             7114598.00\n",
              "Goiás                7113540.00\n",
              "Amazonas             4207714.00\n",
              "Espírito Santo       4064052.00\n",
              "Paraíba              4039277.00\n",
              "Rio Grande do Norte  3534165.00\n",
              "Mato Grosso          3526220.00\n",
              "Alagoas              3351543.00\n",
              "Piauí                3281480.00\n",
              "Distrito Federal     3055149.00\n",
              "Mato Grosso do Sul   2809394.00\n",
              "Sergipe              2318822.00\n",
              "Rondônia             1796460.00\n",
              "Tocantins            1590248.00\n",
              "Acre                  894470.00\n",
              "Amapá                 861773.00\n",
              "Roraima               631181.00"
            ]
          },
          "metadata": {
            "tags": []
          },
          "execution_count": 1180
        }
      ]
    },
    {
      "cell_type": "code",
      "metadata": {
        "id": "PnMx0rxDVsUK"
      },
      "source": [
        "def limpeza_tratamento(usaveis_ordenado):\n",
        "\n",
        "  html = pd.read_html(\"https://pt.wikipedia.org/wiki/Lista_de_unidades_federativas_do_Brasil_por_popula%C3%A7%C3%A3o\", match=\"População\")\n",
        "  tab = html[0]\n",
        "  tab = tab.rename(columns={\"Unidade federativa\": \"uf\", \"População\":\"população\", \"% da pop. total\":\"percentual\"})\n",
        "\n",
        "  tab[\"população\"] = tab[\"população\"].str.replace(\" \", \"\")\n",
        "  tab[\"percentual\"] = tab[\"percentual\"].str.replace(\",\",\".\")\n",
        "  tab[\"percentual\"] = tab[\"percentual\"].str.replace(\"%\",\"\")\n",
        "\n",
        "  tab[\"uf\"] = tab[\"uf\"].astype(str)\n",
        "  tab[\"população\"] = tab[\"população\"].astype(float)\n",
        "  tab[\"percentual\"] = tab[\"percentual\"].astype(float)\n",
        "\n",
        "  tab = tab[[\"uf\",\"população\"]]\n",
        "\n",
        "  tab = tab.set_index(\"uf\")\n",
        "\n",
        "  unida = tab.join(usaveis_ordenado)\n",
        "\n",
        "  \n",
        "  return tab, unida"
      ],
      "execution_count": 1181,
      "outputs": []
    },
    {
      "cell_type": "code",
      "metadata": {
        "colab": {
          "base_uri": "https://localhost:8080/",
          "height": 235
        },
        "id": "u94gwLiMbZAT",
        "outputId": "ad2a7d57-f0e9-441e-a93a-bd24303da68c"
      },
      "source": [
        "tab_retorno, unida_retorno = limpeza_tratamento(usaveis_ordenado)\n",
        "tab_retorno.head()"
      ],
      "execution_count": 1182,
      "outputs": [
        {
          "output_type": "execute_result",
          "data": {
            "text/html": [
              "<div>\n",
              "<style scoped>\n",
              "    .dataframe tbody tr th:only-of-type {\n",
              "        vertical-align: middle;\n",
              "    }\n",
              "\n",
              "    .dataframe tbody tr th {\n",
              "        vertical-align: top;\n",
              "    }\n",
              "\n",
              "    .dataframe thead th {\n",
              "        text-align: right;\n",
              "    }\n",
              "</style>\n",
              "<table border=\"1\" class=\"dataframe\">\n",
              "  <thead>\n",
              "    <tr style=\"text-align: right;\">\n",
              "      <th></th>\n",
              "      <th>população</th>\n",
              "    </tr>\n",
              "    <tr>\n",
              "      <th>uf</th>\n",
              "      <th></th>\n",
              "    </tr>\n",
              "  </thead>\n",
              "  <tbody>\n",
              "    <tr>\n",
              "      <th>São Paulo</th>\n",
              "      <td>46289333.00</td>\n",
              "    </tr>\n",
              "    <tr>\n",
              "      <th>Minas Gerais</th>\n",
              "      <td>21292666.00</td>\n",
              "    </tr>\n",
              "    <tr>\n",
              "      <th>Rio de Janeiro</th>\n",
              "      <td>17366189.00</td>\n",
              "    </tr>\n",
              "    <tr>\n",
              "      <th>Bahia</th>\n",
              "      <td>14930634.00</td>\n",
              "    </tr>\n",
              "    <tr>\n",
              "      <th>Paraná</th>\n",
              "      <td>11516840.00</td>\n",
              "    </tr>\n",
              "  </tbody>\n",
              "</table>\n",
              "</div>"
            ],
            "text/plain": [
              "                 população\n",
              "uf                        \n",
              "São Paulo      46289333.00\n",
              "Minas Gerais   21292666.00\n",
              "Rio de Janeiro 17366189.00\n",
              "Bahia          14930634.00\n",
              "Paraná         11516840.00"
            ]
          },
          "metadata": {
            "tags": []
          },
          "execution_count": 1182
        }
      ]
    },
    {
      "cell_type": "code",
      "metadata": {
        "colab": {
          "base_uri": "https://localhost:8080/",
          "height": 235
        },
        "id": "7W-esWtfj5Vj",
        "outputId": "d74bb21e-1bf6-400b-e61a-562e7417e00f"
      },
      "source": [
        "unida_retorno.head()"
      ],
      "execution_count": 1183,
      "outputs": [
        {
          "output_type": "execute_result",
          "data": {
            "text/html": [
              "<div>\n",
              "<style scoped>\n",
              "    .dataframe tbody tr th:only-of-type {\n",
              "        vertical-align: middle;\n",
              "    }\n",
              "\n",
              "    .dataframe tbody tr th {\n",
              "        vertical-align: top;\n",
              "    }\n",
              "\n",
              "    .dataframe thead th {\n",
              "        text-align: right;\n",
              "    }\n",
              "</style>\n",
              "<table border=\"1\" class=\"dataframe\">\n",
              "  <thead>\n",
              "    <tr style=\"text-align: right;\">\n",
              "      <th></th>\n",
              "      <th>população</th>\n",
              "      <th>2021/Mar</th>\n",
              "    </tr>\n",
              "    <tr>\n",
              "      <th>uf</th>\n",
              "      <th></th>\n",
              "      <th></th>\n",
              "    </tr>\n",
              "  </thead>\n",
              "  <tbody>\n",
              "    <tr>\n",
              "      <th>São Paulo</th>\n",
              "      <td>46289333.00</td>\n",
              "      <td>177408317.71</td>\n",
              "    </tr>\n",
              "    <tr>\n",
              "      <th>Minas Gerais</th>\n",
              "      <td>21292666.00</td>\n",
              "      <td>79780838.00</td>\n",
              "    </tr>\n",
              "    <tr>\n",
              "      <th>Rio de Janeiro</th>\n",
              "      <td>17366189.00</td>\n",
              "      <td>49149884.48</td>\n",
              "    </tr>\n",
              "    <tr>\n",
              "      <th>Bahia</th>\n",
              "      <td>14930634.00</td>\n",
              "      <td>31314602.44</td>\n",
              "    </tr>\n",
              "    <tr>\n",
              "      <th>Paraná</th>\n",
              "      <td>11516840.00</td>\n",
              "      <td>43480729.07</td>\n",
              "    </tr>\n",
              "  </tbody>\n",
              "</table>\n",
              "</div>"
            ],
            "text/plain": [
              "                 população     2021/Mar\n",
              "uf                                     \n",
              "São Paulo      46289333.00 177408317.71\n",
              "Minas Gerais   21292666.00  79780838.00\n",
              "Rio de Janeiro 17366189.00  49149884.48\n",
              "Bahia          14930634.00  31314602.44\n",
              "Paraná         11516840.00  43480729.07"
            ]
          },
          "metadata": {
            "tags": []
          },
          "execution_count": 1183
        }
      ]
    },
    {
      "cell_type": "code",
      "metadata": {
        "colab": {
          "base_uri": "https://localhost:8080/",
          "height": 308
        },
        "id": "REx2JW-IhM0n",
        "outputId": "3239ee7d-ae0b-4d59-d52a-ba5764197f6a"
      },
      "source": [
        "unida_retorno.plot()"
      ],
      "execution_count": 1184,
      "outputs": [
        {
          "output_type": "execute_result",
          "data": {
            "text/plain": [
              "<matplotlib.axes._subplots.AxesSubplot at 0x7feec65c5750>"
            ]
          },
          "metadata": {
            "tags": []
          },
          "execution_count": 1184
        },
        {
          "output_type": "display_data",
          "data": {
            "image/png": "[encoded data removed]",
            "text/plain": [
              "<Figure size 432x288 with 1 Axes>"
            ]
          },
          "metadata": {
            "tags": [],
            "needs_background": "light"
          }
        }
      ]
    },
    {
      "cell_type": "code",
      "metadata": {
        "colab": {
          "base_uri": "https://localhost:8080/",
          "height": 235
        },
        "id": "YfgUIm02hZUg",
        "outputId": "a1f1ef9d-56b3-4673-c27a-1a91875ad67b"
      },
      "source": [
        "unida_retorno[\"gastos\"] = unida_retorno[\"2021/Mar\"] \n",
        "unida_retorno[\"gasto_por_habitante\"] = unida_retorno[\"gastos\"]/unida_retorno[\"população\"]\n",
        "unida_retorno.head()"
      ],
      "execution_count": 1185,
      "outputs": [
        {
          "output_type": "execute_result",
          "data": {
            "text/html": [
              "<div>\n",
              "<style scoped>\n",
              "    .dataframe tbody tr th:only-of-type {\n",
              "        vertical-align: middle;\n",
              "    }\n",
              "\n",
              "    .dataframe tbody tr th {\n",
              "        vertical-align: top;\n",
              "    }\n",
              "\n",
              "    .dataframe thead th {\n",
              "        text-align: right;\n",
              "    }\n",
              "</style>\n",
              "<table border=\"1\" class=\"dataframe\">\n",
              "  <thead>\n",
              "    <tr style=\"text-align: right;\">\n",
              "      <th></th>\n",
              "      <th>população</th>\n",
              "      <th>2021/Mar</th>\n",
              "      <th>gastos</th>\n",
              "      <th>gasto_por_habitante</th>\n",
              "    </tr>\n",
              "    <tr>\n",
              "      <th>uf</th>\n",
              "      <th></th>\n",
              "      <th></th>\n",
              "      <th></th>\n",
              "      <th></th>\n",
              "    </tr>\n",
              "  </thead>\n",
              "  <tbody>\n",
              "    <tr>\n",
              "      <th>São Paulo</th>\n",
              "      <td>46289333.00</td>\n",
              "      <td>177408317.71</td>\n",
              "      <td>177408317.71</td>\n",
              "      <td>3.83</td>\n",
              "    </tr>\n",
              "    <tr>\n",
              "      <th>Minas Gerais</th>\n",
              "      <td>21292666.00</td>\n",
              "      <td>79780838.00</td>\n",
              "      <td>79780838.00</td>\n",
              "      <td>3.75</td>\n",
              "    </tr>\n",
              "    <tr>\n",
              "      <th>Rio de Janeiro</th>\n",
              "      <td>17366189.00</td>\n",
              "      <td>49149884.48</td>\n",
              "      <td>49149884.48</td>\n",
              "      <td>2.83</td>\n",
              "    </tr>\n",
              "    <tr>\n",
              "      <th>Bahia</th>\n",
              "      <td>14930634.00</td>\n",
              "      <td>31314602.44</td>\n",
              "      <td>31314602.44</td>\n",
              "      <td>2.10</td>\n",
              "    </tr>\n",
              "    <tr>\n",
              "      <th>Paraná</th>\n",
              "      <td>11516840.00</td>\n",
              "      <td>43480729.07</td>\n",
              "      <td>43480729.07</td>\n",
              "      <td>3.78</td>\n",
              "    </tr>\n",
              "  </tbody>\n",
              "</table>\n",
              "</div>"
            ],
            "text/plain": [
              "                 população     2021/Mar       gastos  gasto_por_habitante\n",
              "uf                                                                       \n",
              "São Paulo      46289333.00 177408317.71 177408317.71                 3.83\n",
              "Minas Gerais   21292666.00  79780838.00  79780838.00                 3.75\n",
              "Rio de Janeiro 17366189.00  49149884.48  49149884.48                 2.83\n",
              "Bahia          14930634.00  31314602.44  31314602.44                 2.10\n",
              "Paraná         11516840.00  43480729.07  43480729.07                 3.78"
            ]
          },
          "metadata": {
            "tags": []
          },
          "execution_count": 1185
        }
      ]
    },
    {
      "cell_type": "code",
      "metadata": {
        "colab": {
          "base_uri": "https://localhost:8080/",
          "height": 235
        },
        "id": "nD8m1FC_j2Uo",
        "outputId": "5257ab48-be6f-4df4-f105-8ae08107abdf"
      },
      "source": [
        "unida_retorno[\"gasto_por_habitante\"] = unida_retorno[\"gastos\"]/ unida_retorno[\"população\"]\n",
        "unida_retorno.head()"
      ],
      "execution_count": 1186,
      "outputs": [
        {
          "output_type": "execute_result",
          "data": {
            "text/html": [
              "<div>\n",
              "<style scoped>\n",
              "    .dataframe tbody tr th:only-of-type {\n",
              "        vertical-align: middle;\n",
              "    }\n",
              "\n",
              "    .dataframe tbody tr th {\n",
              "        vertical-align: top;\n",
              "    }\n",
              "\n",
              "    .dataframe thead th {\n",
              "        text-align: right;\n",
              "    }\n",
              "</style>\n",
              "<table border=\"1\" class=\"dataframe\">\n",
              "  <thead>\n",
              "    <tr style=\"text-align: right;\">\n",
              "      <th></th>\n",
              "      <th>população</th>\n",
              "      <th>2021/Mar</th>\n",
              "      <th>gastos</th>\n",
              "      <th>gasto_por_habitante</th>\n",
              "    </tr>\n",
              "    <tr>\n",
              "      <th>uf</th>\n",
              "      <th></th>\n",
              "      <th></th>\n",
              "      <th></th>\n",
              "      <th></th>\n",
              "    </tr>\n",
              "  </thead>\n",
              "  <tbody>\n",
              "    <tr>\n",
              "      <th>São Paulo</th>\n",
              "      <td>46289333.00</td>\n",
              "      <td>177408317.71</td>\n",
              "      <td>177408317.71</td>\n",
              "      <td>3.83</td>\n",
              "    </tr>\n",
              "    <tr>\n",
              "      <th>Minas Gerais</th>\n",
              "      <td>21292666.00</td>\n",
              "      <td>79780838.00</td>\n",
              "      <td>79780838.00</td>\n",
              "      <td>3.75</td>\n",
              "    </tr>\n",
              "    <tr>\n",
              "      <th>Rio de Janeiro</th>\n",
              "      <td>17366189.00</td>\n",
              "      <td>49149884.48</td>\n",
              "      <td>49149884.48</td>\n",
              "      <td>2.83</td>\n",
              "    </tr>\n",
              "    <tr>\n",
              "      <th>Bahia</th>\n",
              "      <td>14930634.00</td>\n",
              "      <td>31314602.44</td>\n",
              "      <td>31314602.44</td>\n",
              "      <td>2.10</td>\n",
              "    </tr>\n",
              "    <tr>\n",
              "      <th>Paraná</th>\n",
              "      <td>11516840.00</td>\n",
              "      <td>43480729.07</td>\n",
              "      <td>43480729.07</td>\n",
              "      <td>3.78</td>\n",
              "    </tr>\n",
              "  </tbody>\n",
              "</table>\n",
              "</div>"
            ],
            "text/plain": [
              "                 população     2021/Mar       gastos  gasto_por_habitante\n",
              "uf                                                                       \n",
              "São Paulo      46289333.00 177408317.71 177408317.71                 3.83\n",
              "Minas Gerais   21292666.00  79780838.00  79780838.00                 3.75\n",
              "Rio de Janeiro 17366189.00  49149884.48  49149884.48                 2.83\n",
              "Bahia          14930634.00  31314602.44  31314602.44                 2.10\n",
              "Paraná         11516840.00  43480729.07  43480729.07                 3.78"
            ]
          },
          "metadata": {
            "tags": []
          },
          "execution_count": 1186
        }
      ]
    },
    {
      "cell_type": "code",
      "metadata": {
        "colab": {
          "base_uri": "https://localhost:8080/",
          "height": 497
        },
        "id": "MFlmj50akSLP",
        "outputId": "8af95fbf-a864-41f6-b2c2-608ce7b84f6e"
      },
      "source": [
        "unida_retorno[\"gasto_por_habitante\"].plot(kind=\"bar\", figsize=(12,6))"
      ],
      "execution_count": 1187,
      "outputs": [
        {
          "output_type": "execute_result",
          "data": {
            "text/plain": [
              "<matplotlib.axes._subplots.AxesSubplot at 0x7feec659ded0>"
            ]
          },
          "metadata": {
            "tags": []
          },
          "execution_count": 1187
        },
        {
          "output_type": "display_data",
          "data": {
            "image/png": "[encoded data removed]",
            "text/plain": [
              "<Figure size 864x432 with 1 Axes>"
            ]
          },
          "metadata": {
            "tags": [],
            "needs_background": "light"
          }
        }
      ]
    },
    {
      "cell_type": "markdown",
      "metadata": {
        "id": "aWFugAHzkWuf"
      },
      "source": [
        "#Desafio 01: Ordenar o gráfico e criar uma visualização de gastos por habitantes ordenada."
      ]
    },
    {
      "cell_type": "code",
      "metadata": {
        "colab": {
          "base_uri": "https://localhost:8080/",
          "height": 497
        },
        "id": "FOyaM3XbkZiH",
        "outputId": "553556d9-596e-42c7-a829-0daa444446c4"
      },
      "source": [
        "unida_retorno = unida_retorno.sort_values(by=\"gasto_por_habitante\", ascending=False)\n",
        "unida_retorno[\"gasto_por_habitante\"].plot(kind=\"bar\", figsize=(12,6))"
      ],
      "execution_count": 1188,
      "outputs": [
        {
          "output_type": "execute_result",
          "data": {
            "text/plain": [
              "<matplotlib.axes._subplots.AxesSubplot at 0x7feec667f3d0>"
            ]
          },
          "metadata": {
            "tags": []
          },
          "execution_count": 1188
        },
        {
          "output_type": "display_data",
          "data": {
            "image/png": "[encoded data removed]",
            "text/plain": [
              "<Figure size 864x432 with 1 Axes>"
            ]
          },
          "metadata": {
            "tags": [],
            "needs_background": "light"
          }
        }
      ]
    },
    {
      "cell_type": "markdown",
      "metadata": {
        "id": "GvPbE50CipkR"
      },
      "source": [
        ""
      ]
    },
    {
      "cell_type": "markdown",
      "metadata": {
        "id": "DapJekV5IrHi"
      },
      "source": [
        "#Desafios 02 e 03"
      ]
    },
    {
      "cell_type": "markdown",
      "metadata": {
        "id": "XI8W0pxck7zb"
      },
      "source": [
        "##Desafio 02 (Super Desafio Gui): Fazer os mesmos gráficos do final da aulas 2.1 para meses anteriores, analisar e compartilhar suas hipóteses.\n",
        "##Desafio 03 (Super Desafio Thiago): Plotar no mesmos gráficos do final da aula o mês anterior e o mês correte, analisar e compartilhar suas hipóteses."
      ]
    },
    {
      "cell_type": "code",
      "metadata": {
        "colab": {
          "base_uri": "https://localhost:8080/",
          "height": 235
        },
        "id": "WG-wpohnk9RP",
        "outputId": "e20788b5-bf3e-4044-b598-469355469f5d"
      },
      "source": [
        "usaveis_ordenado = retorna_tabela(-3)\n",
        "tab_retorno, unida_retorno = limpeza_tratamento(usaveis_ordenado)\n",
        "unida_retorno.head()"
      ],
      "execution_count": 1189,
      "outputs": [
        {
          "output_type": "execute_result",
          "data": {
            "text/html": [
              "<div>\n",
              "<style scoped>\n",
              "    .dataframe tbody tr th:only-of-type {\n",
              "        vertical-align: middle;\n",
              "    }\n",
              "\n",
              "    .dataframe tbody tr th {\n",
              "        vertical-align: top;\n",
              "    }\n",
              "\n",
              "    .dataframe thead th {\n",
              "        text-align: right;\n",
              "    }\n",
              "</style>\n",
              "<table border=\"1\" class=\"dataframe\">\n",
              "  <thead>\n",
              "    <tr style=\"text-align: right;\">\n",
              "      <th></th>\n",
              "      <th>população</th>\n",
              "      <th>2021/Jan</th>\n",
              "      <th>2021/Fev</th>\n",
              "      <th>2021/Mar</th>\n",
              "    </tr>\n",
              "    <tr>\n",
              "      <th>uf</th>\n",
              "      <th></th>\n",
              "      <th></th>\n",
              "      <th></th>\n",
              "      <th></th>\n",
              "    </tr>\n",
              "  </thead>\n",
              "  <tbody>\n",
              "    <tr>\n",
              "      <th>São Paulo</th>\n",
              "      <td>46289333.00</td>\n",
              "      <td>324115425.70</td>\n",
              "      <td>268193064.06</td>\n",
              "      <td>177408317.71</td>\n",
              "    </tr>\n",
              "    <tr>\n",
              "      <th>Minas Gerais</th>\n",
              "      <td>21292666.00</td>\n",
              "      <td>155064483.25</td>\n",
              "      <td>119877417.15</td>\n",
              "      <td>79780838.00</td>\n",
              "    </tr>\n",
              "    <tr>\n",
              "      <th>Rio de Janeiro</th>\n",
              "      <td>17366189.00</td>\n",
              "      <td>87201907.99</td>\n",
              "      <td>60873103.08</td>\n",
              "      <td>49149884.48</td>\n",
              "    </tr>\n",
              "    <tr>\n",
              "      <th>Bahia</th>\n",
              "      <td>14930634.00</td>\n",
              "      <td>70325599.07</td>\n",
              "      <td>55544579.04</td>\n",
              "      <td>31314602.44</td>\n",
              "    </tr>\n",
              "    <tr>\n",
              "      <th>Paraná</th>\n",
              "      <td>11516840.00</td>\n",
              "      <td>106948897.53</td>\n",
              "      <td>83130175.37</td>\n",
              "      <td>43480729.07</td>\n",
              "    </tr>\n",
              "  </tbody>\n",
              "</table>\n",
              "</div>"
            ],
            "text/plain": [
              "                 população     2021/Jan     2021/Fev     2021/Mar\n",
              "uf                                                               \n",
              "São Paulo      46289333.00 324115425.70 268193064.06 177408317.71\n",
              "Minas Gerais   21292666.00 155064483.25 119877417.15  79780838.00\n",
              "Rio de Janeiro 17366189.00  87201907.99  60873103.08  49149884.48\n",
              "Bahia          14930634.00  70325599.07  55544579.04  31314602.44\n",
              "Paraná         11516840.00 106948897.53  83130175.37  43480729.07"
            ]
          },
          "metadata": {
            "tags": []
          },
          "execution_count": 1189
        }
      ]
    },
    {
      "cell_type": "code",
      "metadata": {
        "colab": {
          "base_uri": "https://localhost:8080/",
          "height": 235
        },
        "id": "EM7l2-qctrbv",
        "outputId": "0020c081-0ffa-412d-e2da-c1edae97dbb3"
      },
      "source": [
        "unida_retorno[\"gasto_por_habitante_jan\"] = unida_retorno[\"2021/Jan\"] / unida_retorno[\"população\"]\n",
        "unida_retorno[\"gasto_por_habitante_fev\"] = unida_retorno[\"2021/Fev\"] / unida_retorno[\"população\"]\n",
        "unida_retorno[\"gasto_por_habitante_mar\"] = unida_retorno[\"2021/Mar\"] / unida_retorno[\"população\"]\n",
        "unida_retorno.head()"
      ],
      "execution_count": 1190,
      "outputs": [
        {
          "output_type": "execute_result",
          "data": {
            "text/html": [
              "<div>\n",
              "<style scoped>\n",
              "    .dataframe tbody tr th:only-of-type {\n",
              "        vertical-align: middle;\n",
              "    }\n",
              "\n",
              "    .dataframe tbody tr th {\n",
              "        vertical-align: top;\n",
              "    }\n",
              "\n",
              "    .dataframe thead th {\n",
              "        text-align: right;\n",
              "    }\n",
              "</style>\n",
              "<table border=\"1\" class=\"dataframe\">\n",
              "  <thead>\n",
              "    <tr style=\"text-align: right;\">\n",
              "      <th></th>\n",
              "      <th>população</th>\n",
              "      <th>2021/Jan</th>\n",
              "      <th>2021/Fev</th>\n",
              "      <th>2021/Mar</th>\n",
              "      <th>gasto_por_habitante_jan</th>\n",
              "      <th>gasto_por_habitante_fev</th>\n",
              "      <th>gasto_por_habitante_mar</th>\n",
              "    </tr>\n",
              "    <tr>\n",
              "      <th>uf</th>\n",
              "      <th></th>\n",
              "      <th></th>\n",
              "      <th></th>\n",
              "      <th></th>\n",
              "      <th></th>\n",
              "      <th></th>\n",
              "      <th></th>\n",
              "    </tr>\n",
              "  </thead>\n",
              "  <tbody>\n",
              "    <tr>\n",
              "      <th>São Paulo</th>\n",
              "      <td>46289333.00</td>\n",
              "      <td>324115425.70</td>\n",
              "      <td>268193064.06</td>\n",
              "      <td>177408317.71</td>\n",
              "      <td>7.00</td>\n",
              "      <td>5.79</td>\n",
              "      <td>3.83</td>\n",
              "    </tr>\n",
              "    <tr>\n",
              "      <th>Minas Gerais</th>\n",
              "      <td>21292666.00</td>\n",
              "      <td>155064483.25</td>\n",
              "      <td>119877417.15</td>\n",
              "      <td>79780838.00</td>\n",
              "      <td>7.28</td>\n",
              "      <td>5.63</td>\n",
              "      <td>3.75</td>\n",
              "    </tr>\n",
              "    <tr>\n",
              "      <th>Rio de Janeiro</th>\n",
              "      <td>17366189.00</td>\n",
              "      <td>87201907.99</td>\n",
              "      <td>60873103.08</td>\n",
              "      <td>49149884.48</td>\n",
              "      <td>5.02</td>\n",
              "      <td>3.51</td>\n",
              "      <td>2.83</td>\n",
              "    </tr>\n",
              "    <tr>\n",
              "      <th>Bahia</th>\n",
              "      <td>14930634.00</td>\n",
              "      <td>70325599.07</td>\n",
              "      <td>55544579.04</td>\n",
              "      <td>31314602.44</td>\n",
              "      <td>4.71</td>\n",
              "      <td>3.72</td>\n",
              "      <td>2.10</td>\n",
              "    </tr>\n",
              "    <tr>\n",
              "      <th>Paraná</th>\n",
              "      <td>11516840.00</td>\n",
              "      <td>106948897.53</td>\n",
              "      <td>83130175.37</td>\n",
              "      <td>43480729.07</td>\n",
              "      <td>9.29</td>\n",
              "      <td>7.22</td>\n",
              "      <td>3.78</td>\n",
              "    </tr>\n",
              "  </tbody>\n",
              "</table>\n",
              "</div>"
            ],
            "text/plain": [
              "                 população  ...  gasto_por_habitante_mar\n",
              "uf                          ...                         \n",
              "São Paulo      46289333.00  ...                     3.83\n",
              "Minas Gerais   21292666.00  ...                     3.75\n",
              "Rio de Janeiro 17366189.00  ...                     2.83\n",
              "Bahia          14930634.00  ...                     2.10\n",
              "Paraná         11516840.00  ...                     3.78\n",
              "\n",
              "[5 rows x 7 columns]"
            ]
          },
          "metadata": {
            "tags": []
          },
          "execution_count": 1190
        }
      ]
    },
    {
      "cell_type": "markdown",
      "metadata": {
        "id": "W6noC05b1qB5"
      },
      "source": [
        "Percebe-se que de janeiro para março de 2021 os gastos de todos os estados (menos tocantins), sofreram uma queda."
      ]
    },
    {
      "cell_type": "code",
      "metadata": {
        "colab": {
          "base_uri": "https://localhost:8080/",
          "height": 497
        },
        "id": "u04ldPHuviZI",
        "outputId": "21bfb9f5-425b-4abe-8b67-de2f0744b32e"
      },
      "source": [
        "unida_retorno[[\"gasto_por_habitante_jan\",\"gasto_por_habitante_fev\",\"gasto_por_habitante_mar\"]].plot(figsize=(12,6), kind=\"bar\")\n",
        "plt.xlabel(\"Estados\")\n",
        "plt.ylabel(\"Gastos por habitante em R$\")"
      ],
      "execution_count": 1191,
      "outputs": [
        {
          "output_type": "execute_result",
          "data": {
            "text/plain": [
              "Text(0, 0.5, 'Gastos por habitante em R$')"
            ]
          },
          "metadata": {
            "tags": []
          },
          "execution_count": 1191
        },
        {
          "output_type": "display_data",
          "data": {
            "image/png": "[encoded data removed]",
            "text/plain": [
              "<Figure size 864x432 with 1 Axes>"
            ]
          },
          "metadata": {
            "tags": [],
            "needs_background": "light"
          }
        }
      ]
    },
    {
      "cell_type": "markdown",
      "metadata": {
        "id": "y1mX9rUR19qo"
      },
      "source": [
        "O comportamento do gráfico para os meses de janeiro a dezembro parecem ter o mesmo comportamento, porém com uma redução do gasto por habitande de um mês para o outro"
      ]
    },
    {
      "cell_type": "code",
      "metadata": {
        "colab": {
          "base_uri": "https://localhost:8080/",
          "height": 405
        },
        "id": "6v5R1ic0xWP5",
        "outputId": "3bd5180f-2f55-4654-b936-1b7ce7bcdca9"
      },
      "source": [
        "  import seaborn as sns\n",
        "  plt.figure(figsize=(12,6))\n",
        "  label = []\n",
        "  i = 0\n",
        "  unida_retorno_gastos = unida_retorno[[\"2021/Mar\",\"2021/Fev\",\"2021/Jan\"]] \n",
        "  for mes in unida_retorno_gastos:\n",
        "     label.insert(i,mes)\n",
        "     sns.scatterplot(data=unida_retorno/1000000, x=\"população\",y=mes)\n",
        "     i = i +1\n",
        "  plt.legend(labels=label)\n",
        "  plt.xlabel(\"População\")\n",
        "  plt.ylabel(\"Gastos em Milhões\")\n"
      ],
      "execution_count": 1192,
      "outputs": [
        {
          "output_type": "execute_result",
          "data": {
            "text/plain": [
              "Text(0, 0.5, 'Gastos em Milhões')"
            ]
          },
          "metadata": {
            "tags": []
          },
          "execution_count": 1192
        },
        {
          "output_type": "display_data",
          "data": {
            "image/png": "[encoded data removed]",
            "text/plain": [
              "<Figure size 864x432 with 1 Axes>"
            ]
          },
          "metadata": {
            "tags": [],
            "needs_background": "light"
          }
        }
      ]
    },
    {
      "cell_type": "markdown",
      "metadata": {
        "id": "vKj-_Ko33pmo"
      },
      "source": [
        "Abaixo temos os 3 meses plotados no mesmo gráfico. Queda de janeiro a março"
      ]
    },
    {
      "cell_type": "code",
      "metadata": {
        "colab": {
          "base_uri": "https://localhost:8080/",
          "height": 405
        },
        "id": "i86RumUK07Rp",
        "outputId": "70f1e351-f818-4fe3-97d4-44c65cf7cd82"
      },
      "source": [
        "  plt.figure(figsize=(12,6))\n",
        "  label = []\n",
        "  i = 0\n",
        "  unida_retorno_gastos = unida_retorno[[\"gasto_por_habitante_jan\",\"gasto_por_habitante_fev\",\"gasto_por_habitante_mar\"]]\n",
        "  for mes in unida_retorno_gastos:\n",
        "     label.insert(i,mes)\n",
        "     sns.scatterplot(data=unida_retorno, x=\"população\",y=mes)\n",
        "     i = i +1\n",
        "  plt.legend(labels=label)\n",
        "  plt.xlabel(\"População\")\n",
        "  plt.ylabel(\"Gastos por habitante me R$\")"
      ],
      "execution_count": 1193,
      "outputs": [
        {
          "output_type": "execute_result",
          "data": {
            "text/plain": [
              "Text(0, 0.5, 'Gastos por habitante me R$')"
            ]
          },
          "metadata": {
            "tags": []
          },
          "execution_count": 1193
        },
        {
          "output_type": "display_data",
          "data": {
            "image/png": "[encoded data removed]",
            "text/plain": [
              "<Figure size 864x432 with 1 Axes>"
            ]
          },
          "metadata": {
            "tags": [],
            "needs_background": "light"
          }
        }
      ]
    },
    {
      "cell_type": "markdown",
      "metadata": {
        "id": "DaKuI2aKDH5a"
      },
      "source": [
        "Nos gráficos abaixos percebemos com mais clareza a queda, apesar das escalas estarem diferentes"
      ]
    },
    {
      "cell_type": "code",
      "metadata": {
        "colab": {
          "base_uri": "https://localhost:8080/",
          "height": 307
        },
        "id": "9R7X_R5O4Mxx",
        "outputId": "2b96dce0-70a1-4f3d-f6e2-115d4056dd84"
      },
      "source": [
        "  fig, axes = plt.subplots(nrows=2, ncols=2)\n",
        "  unida_retorno_gastos = unida_retorno[[\"população\",\"2021/Mar\",\"2021/Fev\",\"2021/Jan\"]] \n",
        "  sns.scatterplot(ax = axes[0,0],data=unida_retorno_gastos, x=\"população\",y='2021/Jan', color = \"blue\")\n",
        "  sns.scatterplot(ax = axes[1,0],data=unida_retorno_gastos, x=\"população\",y='2021/Fev', color = \"orange\")\n",
        "  sns.scatterplot(ax = axes[0,1],data=unida_retorno_gastos, x=\"população\",y='2021/Mar', color = \"green\")\n",
        "  "
      ],
      "execution_count": 1194,
      "outputs": [
        {
          "output_type": "execute_result",
          "data": {
            "text/plain": [
              "<matplotlib.axes._subplots.AxesSubplot at 0x7feec616d0d0>"
            ]
          },
          "metadata": {
            "tags": []
          },
          "execution_count": 1194
        },
        {
          "output_type": "display_data",
          "data": {
            "image/png": "[encoded data removed]",
            "text/plain": [
              "<Figure size 432x288 with 4 Axes>"
            ]
          },
          "metadata": {
            "tags": [],
            "needs_background": "light"
          }
        }
      ]
    },
    {
      "cell_type": "markdown",
      "metadata": {
        "id": "Y9_HL_e9FlYJ"
      },
      "source": [
        "Para melhorarar a visualização vemos os mesese individualmente com as escalas proporcionais. Percebe- se que o comportamento é uma queda"
      ]
    },
    {
      "cell_type": "code",
      "metadata": {
        "colab": {
          "base_uri": "https://localhost:8080/",
          "height": 300
        },
        "id": "nLVGd63zDWBb",
        "outputId": "094b8208-8b09-43ec-8af0-4f995e641299"
      },
      "source": [
        "  unida_retorno_gastos = unida_retorno[[\"população\",\"2021/Mar\",\"2021/Fev\",\"2021/Jan\"]]/1000000\n",
        "  sns.scatterplot(data=unida_retorno_gastos, x=\"população\",y='2021/Jan', color = \"blue\")\n",
        "  plt.ylim(0,350)\n",
        "\n",
        "  plt.legend(labels=[\"2021/Jan\"])\n",
        "  plt.xlabel(\"População\")\n",
        "  plt.ylabel(\"Gastos em milhôes\")"
      ],
      "execution_count": 1195,
      "outputs": [
        {
          "output_type": "execute_result",
          "data": {
            "text/plain": [
              "Text(0, 0.5, 'Gastos em milhôes')"
            ]
          },
          "metadata": {
            "tags": []
          },
          "execution_count": 1195
        },
        {
          "output_type": "display_data",
          "data": {
            "image/png": "[encoded data removed]",
            "text/plain": [
              "<Figure size 432x288 with 1 Axes>"
            ]
          },
          "metadata": {
            "tags": [],
            "needs_background": "light"
          }
        }
      ]
    },
    {
      "cell_type": "code",
      "metadata": {
        "colab": {
          "base_uri": "https://localhost:8080/",
          "height": 300
        },
        "id": "wjBQvkiKDwTy",
        "outputId": "01b3fba3-3542-4dd6-f796-87aac8996f4b"
      },
      "source": [
        "sns.scatterplot(data=unida_retorno_gastos, x=\"população\",y='2021/Fev', color = \"orange\")\n",
        "plt.ylim(0,350)\n",
        "\n",
        "plt.legend(labels=[\"2021/Fev\"])\n",
        "plt.xlabel(\"População\")\n",
        "plt.ylabel(\"Gastos em milhôes\")"
      ],
      "execution_count": 1196,
      "outputs": [
        {
          "output_type": "execute_result",
          "data": {
            "text/plain": [
              "Text(0, 0.5, 'Gastos em milhôes')"
            ]
          },
          "metadata": {
            "tags": []
          },
          "execution_count": 1196
        },
        {
          "output_type": "display_data",
          "data": {
            "image/png": "[encoded data removed]",
            "text/plain": [
              "<Figure size 432x288 with 1 Axes>"
            ]
          },
          "metadata": {
            "tags": [],
            "needs_background": "light"
          }
        }
      ]
    },
    {
      "cell_type": "code",
      "metadata": {
        "colab": {
          "base_uri": "https://localhost:8080/",
          "height": 300
        },
        "id": "z2sf626pEi0i",
        "outputId": "8729088f-63c9-467a-876b-a6cfea850913"
      },
      "source": [
        "sns.scatterplot(data=unida_retorno_gastos, x=\"população\",y='2021/Mar', color = \"green\")\n",
        "plt.ylim(0,350)\n",
        "\n",
        "plt.legend(labels=[\"2021/Mar\"])\n",
        "plt.xlabel(\"População\")\n",
        "plt.ylabel(\"Gastos em milhôes\")"
      ],
      "execution_count": 1197,
      "outputs": [
        {
          "output_type": "execute_result",
          "data": {
            "text/plain": [
              "Text(0, 0.5, 'Gastos em milhôes')"
            ]
          },
          "metadata": {
            "tags": []
          },
          "execution_count": 1197
        },
        {
          "output_type": "display_data",
          "data": {
            "image/png": "[encoded data removed]",
            "text/plain": [
              "<Figure size 432x288 with 1 Axes>"
            ]
          },
          "metadata": {
            "tags": [],
            "needs_background": "light"
          }
        }
      ]
    },
    {
      "cell_type": "markdown",
      "metadata": {
        "id": "w8sZvimKF0-5"
      },
      "source": [
        "Abaixo os comportamentos dos gastos por habitantes analisados individualmente. o primeiro conjunto de gráficos fica um pouco mais ificil de visualizar devido as escalas estarem diferentes"
      ]
    },
    {
      "cell_type": "code",
      "metadata": {
        "colab": {
          "base_uri": "https://localhost:8080/",
          "height": 408
        },
        "id": "I43i0Rjo7Pyy",
        "outputId": "5c895b0c-97b3-45cd-ee52-b71a7b131a09"
      },
      "source": [
        "  fig, axes = plt.subplots(nrows=2, ncols=2, figsize=(15,6))\n",
        "  unida_retorno_gastos = unida_retorno[[\"população\", \"gasto_por_habitante_jan\",\"gasto_por_habitante_fev\",\"gasto_por_habitante_mar\"]] \n",
        "  sns.scatterplot(ax = axes[0,0],data=unida_retorno_gastos, x=\"população\",y='gasto_por_habitante_jan', color = \"blue\")\n",
        "  sns.scatterplot(ax = axes[1,0],data=unida_retorno_gastos, x=\"população\",y='gasto_por_habitante_fev', color = \"orange\")\n",
        "  sns.scatterplot(ax = axes[0,1],data=unida_retorno_gastos, x=\"população\",y='gasto_por_habitante_mar', color = \"green\")"
      ],
      "execution_count": 1198,
      "outputs": [
        {
          "output_type": "execute_result",
          "data": {
            "text/plain": [
              "<matplotlib.axes._subplots.AxesSubplot at 0x7feec5efedd0>"
            ]
          },
          "metadata": {
            "tags": []
          },
          "execution_count": 1198
        },
        {
          "output_type": "display_data",
          "data": {
            "image/png": "[encoded data removed]",
            "text/plain": [
              "<Figure size 1080x432 with 4 Axes>"
            ]
          },
          "metadata": {
            "tags": [],
            "needs_background": "light"
          }
        }
      ]
    },
    {
      "cell_type": "markdown",
      "metadata": {
        "id": "PxdEvJdBGKgM"
      },
      "source": [
        "Abaixo vamos fazer uma análise individual dos meses para os meses de janeiro, fevereiro e marco. Percebe-se uma tendência de queda no valor de gastos por habitantes nos estados brasileiros"
      ]
    },
    {
      "cell_type": "code",
      "metadata": {
        "colab": {
          "base_uri": "https://localhost:8080/",
          "height": 300
        },
        "id": "LB2ug_7GGKwH",
        "outputId": "ff440e24-e58c-4ed7-82e9-8bc5e94f2814"
      },
      "source": [
        "unida_retorno_gastos = unida_retorno[[\"população\", \"gasto_por_habitante_jan\",\"gasto_por_habitante_fev\",\"gasto_por_habitante_mar\"]] \n",
        "sns.scatterplot(data=unida_retorno_gastos, x=\"população\",y='gasto_por_habitante_jan', color = \"blue\")\n",
        "plt.ylim(0,10)\n",
        "\n",
        "plt.legend(labels=[\"gasto_por_habitante_jan\"])\n",
        "plt.xlabel(\"População\")\n",
        "plt.ylabel(\"Gastos por habitante em R$\")"
      ],
      "execution_count": 1199,
      "outputs": [
        {
          "output_type": "execute_result",
          "data": {
            "text/plain": [
              "Text(0, 0.5, 'Gastos por habitante em R$')"
            ]
          },
          "metadata": {
            "tags": []
          },
          "execution_count": 1199
        },
        {
          "output_type": "display_data",
          "data": {
            "image/png": "[encoded data removed]",
            "text/plain": [
              "<Figure size 432x288 with 1 Axes>"
            ]
          },
          "metadata": {
            "tags": [],
            "needs_background": "light"
          }
        }
      ]
    },
    {
      "cell_type": "code",
      "metadata": {
        "colab": {
          "base_uri": "https://localhost:8080/",
          "height": 300
        },
        "id": "WkMAyNuIGcCi",
        "outputId": "9010fb64-a3c5-4d21-da62-e407e67d7e20"
      },
      "source": [
        "sns.scatterplot(data=unida_retorno_gastos, x=\"população\",y='gasto_por_habitante_fev', color = \"orange\")\n",
        "plt.ylim(0,10)\n",
        "\n",
        "plt.legend(labels=[\"gasto_por_habitante_fev\"])\n",
        "plt.xlabel(\"População\")\n",
        "plt.ylabel(\"Gastos por habitante em R$\")"
      ],
      "execution_count": 1200,
      "outputs": [
        {
          "output_type": "execute_result",
          "data": {
            "text/plain": [
              "Text(0, 0.5, 'Gastos por habitante em R$')"
            ]
          },
          "metadata": {
            "tags": []
          },
          "execution_count": 1200
        },
        {
          "output_type": "display_data",
          "data": {
            "image/png": "[encoded data removed]",
            "text/plain": [
              "<Figure size 432x288 with 1 Axes>"
            ]
          },
          "metadata": {
            "tags": [],
            "needs_background": "light"
          }
        }
      ]
    },
    {
      "cell_type": "code",
      "metadata": {
        "colab": {
          "base_uri": "https://localhost:8080/",
          "height": 300
        },
        "id": "IsaaeYJ_GkpK",
        "outputId": "ba1de239-16a5-477a-ea9a-5345bbbf2ada"
      },
      "source": [
        "sns.scatterplot(data=unida_retorno_gastos, x=\"população\",y='gasto_por_habitante_mar', color = \"green\")\n",
        "plt.ylim(0,10)\n",
        "\n",
        "plt.legend(labels=[\"gasto_por_habitante_mar\"])\n",
        "plt.xlabel(\"População\")\n",
        "plt.ylabel(\"Gastos por habitante em R$\")"
      ],
      "execution_count": 1201,
      "outputs": [
        {
          "output_type": "execute_result",
          "data": {
            "text/plain": [
              "Text(0, 0.5, 'Gastos por habitante em R$')"
            ]
          },
          "metadata": {
            "tags": []
          },
          "execution_count": 1201
        },
        {
          "output_type": "display_data",
          "data": {
            "image/png": "[encoded data removed]",
            "text/plain": [
              "<Figure size 432x288 with 1 Axes>"
            ]
          },
          "metadata": {
            "tags": [],
            "needs_background": "light"
          }
        }
      ]
    },
    {
      "cell_type": "markdown",
      "metadata": {
        "id": "tXbNFEyrJbKI"
      },
      "source": [
        "Hipoteses:\n",
        "* Menor repasse de verba para saúde nos estados?\n",
        "* Será que tem a ver com a dimnuição de repasse para os estados para o Covid-19? (https://g1.globo.com/economia/noticia/2021/04/23/gastos-extraordinarios-do-governo-contra-covid-caem-de-r-524-bi-em-2020-para-r-103-bi-em-2021.ghtml)\n",
        "* Será que devido ao destanciamento social e as medidas de prevenção dimuiu o número de pessoas na saúde pública? "
      ]
    }
  ]
}